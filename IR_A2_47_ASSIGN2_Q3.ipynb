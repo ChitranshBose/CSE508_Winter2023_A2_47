{
  "nbformat": 4,
  "nbformat_minor": 0,
  "metadata": {
    "colab": {
      "provenance": [],
      "authorship_tag": "ABX9TyPXLDl1txtw3piBlpIlS2HO",
      "include_colab_link": true
    },
    "kernelspec": {
      "name": "python3",
      "display_name": "Python 3"
    },
    "language_info": {
      "name": "python"
    }
  },
  "cells": [
    {
      "cell_type": "markdown",
      "metadata": {
        "id": "view-in-github",
        "colab_type": "text"
      },
      "source": [
        "<a href=\"https://colab.research.google.com/github/ChitranshBose/CSE508_Winter2023_A2_47/blob/main/IR_A2_47_ASSIGN2_Q3.ipynb\" target=\"_parent\"><img src=\"https://colab.research.google.com/assets/colab-badge.svg\" alt=\"Open In Colab\"/></a>"
      ]
    },
    {
      "cell_type": "code",
      "execution_count": 6,
      "metadata": {
        "id": "dbZTSlCOgtMX"
      },
      "outputs": [],
      "source": [
        "import pandas as pd\n",
        "import numpy as np\n",
        "from math import factorial as fact \n",
        "from math import log2 as lg \n",
        "import matplotlib.pyplot as plt"
      ]
    },
    {
      "cell_type": "code",
      "source": [
        "heading = ['relevance', 'q_id']\n",
        "\n",
        "for i in range(1,138):\n",
        "  heading.append(\"feature\"+str(i))\n",
        "print(heading)"
      ],
      "metadata": {
        "colab": {
          "base_uri": "https://localhost:8080/"
        },
        "id": "RdhFkb_7iUMl",
        "outputId": "0f60b182-9de1-4844-a6a3-8b892d2a410a"
      },
      "execution_count": 7,
      "outputs": [
        {
          "output_type": "stream",
          "name": "stdout",
          "text": [
            "['relevance', 'q_id', 'feature1', 'feature2', 'feature3', 'feature4', 'feature5', 'feature6', 'feature7', 'feature8', 'feature9', 'feature10', 'feature11', 'feature12', 'feature13', 'feature14', 'feature15', 'feature16', 'feature17', 'feature18', 'feature19', 'feature20', 'feature21', 'feature22', 'feature23', 'feature24', 'feature25', 'feature26', 'feature27', 'feature28', 'feature29', 'feature30', 'feature31', 'feature32', 'feature33', 'feature34', 'feature35', 'feature36', 'feature37', 'feature38', 'feature39', 'feature40', 'feature41', 'feature42', 'feature43', 'feature44', 'feature45', 'feature46', 'feature47', 'feature48', 'feature49', 'feature50', 'feature51', 'feature52', 'feature53', 'feature54', 'feature55', 'feature56', 'feature57', 'feature58', 'feature59', 'feature60', 'feature61', 'feature62', 'feature63', 'feature64', 'feature65', 'feature66', 'feature67', 'feature68', 'feature69', 'feature70', 'feature71', 'feature72', 'feature73', 'feature74', 'feature75', 'feature76', 'feature77', 'feature78', 'feature79', 'feature80', 'feature81', 'feature82', 'feature83', 'feature84', 'feature85', 'feature86', 'feature87', 'feature88', 'feature89', 'feature90', 'feature91', 'feature92', 'feature93', 'feature94', 'feature95', 'feature96', 'feature97', 'feature98', 'feature99', 'feature100', 'feature101', 'feature102', 'feature103', 'feature104', 'feature105', 'feature106', 'feature107', 'feature108', 'feature109', 'feature110', 'feature111', 'feature112', 'feature113', 'feature114', 'feature115', 'feature116', 'feature117', 'feature118', 'feature119', 'feature120', 'feature121', 'feature122', 'feature123', 'feature124', 'feature125', 'feature126', 'feature127', 'feature128', 'feature129', 'feature130', 'feature131', 'feature132', 'feature133', 'feature134', 'feature135', 'feature136', 'feature137']\n"
          ]
        }
      ]
    },
    {
      "cell_type": "code",
      "source": [
        "data = pd.read_csv(\"IR-assignment-2-data (2).txt\", sep= \" \",names=heading)\n",
        "data.drop(['feature137'],axis=1,inplace=True)\n",
        "\n",
        "data"
      ],
      "metadata": {
        "colab": {
          "base_uri": "https://localhost:8080/",
          "height": 487
        },
        "id": "VCbT7xV2h1nl",
        "outputId": "be12319e-5706-443a-9760-107516c5ef39"
      },
      "execution_count": 8,
      "outputs": [
        {
          "output_type": "execute_result",
          "data": {
            "text/plain": [
              "      relevance     q_id feature1 feature2 feature3 feature4 feature5  \\\n",
              "0             0    qid:4      1:3      2:0      3:2      4:0      5:3   \n",
              "1             0    qid:4      1:3      2:0      3:3      4:0      5:3   \n",
              "2             0    qid:4      1:3      2:0      3:2      4:0      5:3   \n",
              "3             0    qid:4      1:3      2:0      3:3      4:0      5:3   \n",
              "4             1    qid:4      1:3      2:0      3:3      4:0      5:3   \n",
              "...         ...      ...      ...      ...      ...      ...      ...   \n",
              "4506          1  qid:619      1:2      2:0      3:2      4:0      5:2   \n",
              "4507          2  qid:619      1:2      2:2      3:2      4:2      5:2   \n",
              "4508          2  qid:619      1:2      2:0      3:1      4:1      5:2   \n",
              "4509          2  qid:619      1:2      2:0      3:2      4:0      5:2   \n",
              "4510          0  qid:619      1:2      2:0      3:1      4:1      5:2   \n",
              "\n",
              "     feature6 feature7    feature8  ... feature127 feature128 feature129  \\\n",
              "0         6:1      7:0  8:0.666667  ...     127:27      128:2      129:9   \n",
              "1         6:1      7:0         8:1  ...     127:61      128:0      129:8   \n",
              "2         6:1      7:0  8:0.666667  ...     127:31      128:2      129:8   \n",
              "3         6:1      7:0         8:1  ...     127:32     128:82     129:17   \n",
              "4         6:1      7:0         8:1  ...     127:29     128:11      129:8   \n",
              "...       ...      ...         ...  ...        ...        ...        ...   \n",
              "4506      6:1      7:0         8:1  ...     127:37      128:1      129:8   \n",
              "4507      6:1      7:1         8:1  ...    127:129    128:506      129:1   \n",
              "4508      6:1      7:0   8:0.50000  ...     127:21      128:0      129:0   \n",
              "4509      6:1      7:0         8:1  ...     127:27    128:141      129:0   \n",
              "4510      6:1      7:0   8:0.50000  ...        NaN        NaN        NaN   \n",
              "\n",
              "     feature130 feature131 feature132 feature133 feature134 feature135  \\\n",
              "0       130:124   131:4678     132:54     133:74      134:0      135:0   \n",
              "1       130:122    131:508    132:131    133:136      134:0      135:0   \n",
              "2       130:115    131:508     132:51     133:70      134:0      135:0   \n",
              "3       130:122    131:508     132:83    133:107      134:0     135:10   \n",
              "4       130:121    131:508    132:103    133:120      134:0      135:0   \n",
              "...         ...        ...        ...        ...        ...        ...   \n",
              "4506   130:8678  131:65535      132:5      133:3      134:0      135:0   \n",
              "4507  130:24175  131:50554     132:10      133:2      134:0      135:0   \n",
              "4508  130:63830  131:50554      132:4      133:4     134:64     135:17   \n",
              "4509  130:48311   131:8491      132:6      133:7      134:0      135:0   \n",
              "4510        NaN        NaN        NaN        NaN        NaN        NaN   \n",
              "\n",
              "     feature136  \n",
              "0         136:0  \n",
              "1         136:0  \n",
              "2         136:0  \n",
              "3     136:13.35  \n",
              "4         136:0  \n",
              "...         ...  \n",
              "4506      136:0  \n",
              "4507      136:0  \n",
              "4508   136:17.9  \n",
              "4509      136:0  \n",
              "4510        NaN  \n",
              "\n",
              "[4511 rows x 138 columns]"
            ],
            "text/html": [
              "\n",
              "  <div id=\"df-e12d83af-cc72-455f-aa1a-7cf1c6bc38cb\">\n",
              "    <div class=\"colab-df-container\">\n",
              "      <div>\n",
              "<style scoped>\n",
              "    .dataframe tbody tr th:only-of-type {\n",
              "        vertical-align: middle;\n",
              "    }\n",
              "\n",
              "    .dataframe tbody tr th {\n",
              "        vertical-align: top;\n",
              "    }\n",
              "\n",
              "    .dataframe thead th {\n",
              "        text-align: right;\n",
              "    }\n",
              "</style>\n",
              "<table border=\"1\" class=\"dataframe\">\n",
              "  <thead>\n",
              "    <tr style=\"text-align: right;\">\n",
              "      <th></th>\n",
              "      <th>relevance</th>\n",
              "      <th>q_id</th>\n",
              "      <th>feature1</th>\n",
              "      <th>feature2</th>\n",
              "      <th>feature3</th>\n",
              "      <th>feature4</th>\n",
              "      <th>feature5</th>\n",
              "      <th>feature6</th>\n",
              "      <th>feature7</th>\n",
              "      <th>feature8</th>\n",
              "      <th>...</th>\n",
              "      <th>feature127</th>\n",
              "      <th>feature128</th>\n",
              "      <th>feature129</th>\n",
              "      <th>feature130</th>\n",
              "      <th>feature131</th>\n",
              "      <th>feature132</th>\n",
              "      <th>feature133</th>\n",
              "      <th>feature134</th>\n",
              "      <th>feature135</th>\n",
              "      <th>feature136</th>\n",
              "    </tr>\n",
              "  </thead>\n",
              "  <tbody>\n",
              "    <tr>\n",
              "      <th>0</th>\n",
              "      <td>0</td>\n",
              "      <td>qid:4</td>\n",
              "      <td>1:3</td>\n",
              "      <td>2:0</td>\n",
              "      <td>3:2</td>\n",
              "      <td>4:0</td>\n",
              "      <td>5:3</td>\n",
              "      <td>6:1</td>\n",
              "      <td>7:0</td>\n",
              "      <td>8:0.666667</td>\n",
              "      <td>...</td>\n",
              "      <td>127:27</td>\n",
              "      <td>128:2</td>\n",
              "      <td>129:9</td>\n",
              "      <td>130:124</td>\n",
              "      <td>131:4678</td>\n",
              "      <td>132:54</td>\n",
              "      <td>133:74</td>\n",
              "      <td>134:0</td>\n",
              "      <td>135:0</td>\n",
              "      <td>136:0</td>\n",
              "    </tr>\n",
              "    <tr>\n",
              "      <th>1</th>\n",
              "      <td>0</td>\n",
              "      <td>qid:4</td>\n",
              "      <td>1:3</td>\n",
              "      <td>2:0</td>\n",
              "      <td>3:3</td>\n",
              "      <td>4:0</td>\n",
              "      <td>5:3</td>\n",
              "      <td>6:1</td>\n",
              "      <td>7:0</td>\n",
              "      <td>8:1</td>\n",
              "      <td>...</td>\n",
              "      <td>127:61</td>\n",
              "      <td>128:0</td>\n",
              "      <td>129:8</td>\n",
              "      <td>130:122</td>\n",
              "      <td>131:508</td>\n",
              "      <td>132:131</td>\n",
              "      <td>133:136</td>\n",
              "      <td>134:0</td>\n",
              "      <td>135:0</td>\n",
              "      <td>136:0</td>\n",
              "    </tr>\n",
              "    <tr>\n",
              "      <th>2</th>\n",
              "      <td>0</td>\n",
              "      <td>qid:4</td>\n",
              "      <td>1:3</td>\n",
              "      <td>2:0</td>\n",
              "      <td>3:2</td>\n",
              "      <td>4:0</td>\n",
              "      <td>5:3</td>\n",
              "      <td>6:1</td>\n",
              "      <td>7:0</td>\n",
              "      <td>8:0.666667</td>\n",
              "      <td>...</td>\n",
              "      <td>127:31</td>\n",
              "      <td>128:2</td>\n",
              "      <td>129:8</td>\n",
              "      <td>130:115</td>\n",
              "      <td>131:508</td>\n",
              "      <td>132:51</td>\n",
              "      <td>133:70</td>\n",
              "      <td>134:0</td>\n",
              "      <td>135:0</td>\n",
              "      <td>136:0</td>\n",
              "    </tr>\n",
              "    <tr>\n",
              "      <th>3</th>\n",
              "      <td>0</td>\n",
              "      <td>qid:4</td>\n",
              "      <td>1:3</td>\n",
              "      <td>2:0</td>\n",
              "      <td>3:3</td>\n",
              "      <td>4:0</td>\n",
              "      <td>5:3</td>\n",
              "      <td>6:1</td>\n",
              "      <td>7:0</td>\n",
              "      <td>8:1</td>\n",
              "      <td>...</td>\n",
              "      <td>127:32</td>\n",
              "      <td>128:82</td>\n",
              "      <td>129:17</td>\n",
              "      <td>130:122</td>\n",
              "      <td>131:508</td>\n",
              "      <td>132:83</td>\n",
              "      <td>133:107</td>\n",
              "      <td>134:0</td>\n",
              "      <td>135:10</td>\n",
              "      <td>136:13.35</td>\n",
              "    </tr>\n",
              "    <tr>\n",
              "      <th>4</th>\n",
              "      <td>1</td>\n",
              "      <td>qid:4</td>\n",
              "      <td>1:3</td>\n",
              "      <td>2:0</td>\n",
              "      <td>3:3</td>\n",
              "      <td>4:0</td>\n",
              "      <td>5:3</td>\n",
              "      <td>6:1</td>\n",
              "      <td>7:0</td>\n",
              "      <td>8:1</td>\n",
              "      <td>...</td>\n",
              "      <td>127:29</td>\n",
              "      <td>128:11</td>\n",
              "      <td>129:8</td>\n",
              "      <td>130:121</td>\n",
              "      <td>131:508</td>\n",
              "      <td>132:103</td>\n",
              "      <td>133:120</td>\n",
              "      <td>134:0</td>\n",
              "      <td>135:0</td>\n",
              "      <td>136:0</td>\n",
              "    </tr>\n",
              "    <tr>\n",
              "      <th>...</th>\n",
              "      <td>...</td>\n",
              "      <td>...</td>\n",
              "      <td>...</td>\n",
              "      <td>...</td>\n",
              "      <td>...</td>\n",
              "      <td>...</td>\n",
              "      <td>...</td>\n",
              "      <td>...</td>\n",
              "      <td>...</td>\n",
              "      <td>...</td>\n",
              "      <td>...</td>\n",
              "      <td>...</td>\n",
              "      <td>...</td>\n",
              "      <td>...</td>\n",
              "      <td>...</td>\n",
              "      <td>...</td>\n",
              "      <td>...</td>\n",
              "      <td>...</td>\n",
              "      <td>...</td>\n",
              "      <td>...</td>\n",
              "      <td>...</td>\n",
              "    </tr>\n",
              "    <tr>\n",
              "      <th>4506</th>\n",
              "      <td>1</td>\n",
              "      <td>qid:619</td>\n",
              "      <td>1:2</td>\n",
              "      <td>2:0</td>\n",
              "      <td>3:2</td>\n",
              "      <td>4:0</td>\n",
              "      <td>5:2</td>\n",
              "      <td>6:1</td>\n",
              "      <td>7:0</td>\n",
              "      <td>8:1</td>\n",
              "      <td>...</td>\n",
              "      <td>127:37</td>\n",
              "      <td>128:1</td>\n",
              "      <td>129:8</td>\n",
              "      <td>130:8678</td>\n",
              "      <td>131:65535</td>\n",
              "      <td>132:5</td>\n",
              "      <td>133:3</td>\n",
              "      <td>134:0</td>\n",
              "      <td>135:0</td>\n",
              "      <td>136:0</td>\n",
              "    </tr>\n",
              "    <tr>\n",
              "      <th>4507</th>\n",
              "      <td>2</td>\n",
              "      <td>qid:619</td>\n",
              "      <td>1:2</td>\n",
              "      <td>2:2</td>\n",
              "      <td>3:2</td>\n",
              "      <td>4:2</td>\n",
              "      <td>5:2</td>\n",
              "      <td>6:1</td>\n",
              "      <td>7:1</td>\n",
              "      <td>8:1</td>\n",
              "      <td>...</td>\n",
              "      <td>127:129</td>\n",
              "      <td>128:506</td>\n",
              "      <td>129:1</td>\n",
              "      <td>130:24175</td>\n",
              "      <td>131:50554</td>\n",
              "      <td>132:10</td>\n",
              "      <td>133:2</td>\n",
              "      <td>134:0</td>\n",
              "      <td>135:0</td>\n",
              "      <td>136:0</td>\n",
              "    </tr>\n",
              "    <tr>\n",
              "      <th>4508</th>\n",
              "      <td>2</td>\n",
              "      <td>qid:619</td>\n",
              "      <td>1:2</td>\n",
              "      <td>2:0</td>\n",
              "      <td>3:1</td>\n",
              "      <td>4:1</td>\n",
              "      <td>5:2</td>\n",
              "      <td>6:1</td>\n",
              "      <td>7:0</td>\n",
              "      <td>8:0.50000</td>\n",
              "      <td>...</td>\n",
              "      <td>127:21</td>\n",
              "      <td>128:0</td>\n",
              "      <td>129:0</td>\n",
              "      <td>130:63830</td>\n",
              "      <td>131:50554</td>\n",
              "      <td>132:4</td>\n",
              "      <td>133:4</td>\n",
              "      <td>134:64</td>\n",
              "      <td>135:17</td>\n",
              "      <td>136:17.9</td>\n",
              "    </tr>\n",
              "    <tr>\n",
              "      <th>4509</th>\n",
              "      <td>2</td>\n",
              "      <td>qid:619</td>\n",
              "      <td>1:2</td>\n",
              "      <td>2:0</td>\n",
              "      <td>3:2</td>\n",
              "      <td>4:0</td>\n",
              "      <td>5:2</td>\n",
              "      <td>6:1</td>\n",
              "      <td>7:0</td>\n",
              "      <td>8:1</td>\n",
              "      <td>...</td>\n",
              "      <td>127:27</td>\n",
              "      <td>128:141</td>\n",
              "      <td>129:0</td>\n",
              "      <td>130:48311</td>\n",
              "      <td>131:8491</td>\n",
              "      <td>132:6</td>\n",
              "      <td>133:7</td>\n",
              "      <td>134:0</td>\n",
              "      <td>135:0</td>\n",
              "      <td>136:0</td>\n",
              "    </tr>\n",
              "    <tr>\n",
              "      <th>4510</th>\n",
              "      <td>0</td>\n",
              "      <td>qid:619</td>\n",
              "      <td>1:2</td>\n",
              "      <td>2:0</td>\n",
              "      <td>3:1</td>\n",
              "      <td>4:1</td>\n",
              "      <td>5:2</td>\n",
              "      <td>6:1</td>\n",
              "      <td>7:0</td>\n",
              "      <td>8:0.50000</td>\n",
              "      <td>...</td>\n",
              "      <td>NaN</td>\n",
              "      <td>NaN</td>\n",
              "      <td>NaN</td>\n",
              "      <td>NaN</td>\n",
              "      <td>NaN</td>\n",
              "      <td>NaN</td>\n",
              "      <td>NaN</td>\n",
              "      <td>NaN</td>\n",
              "      <td>NaN</td>\n",
              "      <td>NaN</td>\n",
              "    </tr>\n",
              "  </tbody>\n",
              "</table>\n",
              "<p>4511 rows × 138 columns</p>\n",
              "</div>\n",
              "      <button class=\"colab-df-convert\" onclick=\"convertToInteractive('df-e12d83af-cc72-455f-aa1a-7cf1c6bc38cb')\"\n",
              "              title=\"Convert this dataframe to an interactive table.\"\n",
              "              style=\"display:none;\">\n",
              "        \n",
              "  <svg xmlns=\"http://www.w3.org/2000/svg\" height=\"24px\"viewBox=\"0 0 24 24\"\n",
              "       width=\"24px\">\n",
              "    <path d=\"M0 0h24v24H0V0z\" fill=\"none\"/>\n",
              "    <path d=\"M18.56 5.44l.94 2.06.94-2.06 2.06-.94-2.06-.94-.94-2.06-.94 2.06-2.06.94zm-11 1L8.5 8.5l.94-2.06 2.06-.94-2.06-.94L8.5 2.5l-.94 2.06-2.06.94zm10 10l.94 2.06.94-2.06 2.06-.94-2.06-.94-.94-2.06-.94 2.06-2.06.94z\"/><path d=\"M17.41 7.96l-1.37-1.37c-.4-.4-.92-.59-1.43-.59-.52 0-1.04.2-1.43.59L10.3 9.45l-7.72 7.72c-.78.78-.78 2.05 0 2.83L4 21.41c.39.39.9.59 1.41.59.51 0 1.02-.2 1.41-.59l7.78-7.78 2.81-2.81c.8-.78.8-2.07 0-2.86zM5.41 20L4 18.59l7.72-7.72 1.47 1.35L5.41 20z\"/>\n",
              "  </svg>\n",
              "      </button>\n",
              "      \n",
              "  <style>\n",
              "    .colab-df-container {\n",
              "      display:flex;\n",
              "      flex-wrap:wrap;\n",
              "      gap: 12px;\n",
              "    }\n",
              "\n",
              "    .colab-df-convert {\n",
              "      background-color: #E8F0FE;\n",
              "      border: none;\n",
              "      border-radius: 50%;\n",
              "      cursor: pointer;\n",
              "      display: none;\n",
              "      fill: #1967D2;\n",
              "      height: 32px;\n",
              "      padding: 0 0 0 0;\n",
              "      width: 32px;\n",
              "    }\n",
              "\n",
              "    .colab-df-convert:hover {\n",
              "      background-color: #E2EBFA;\n",
              "      box-shadow: 0px 1px 2px rgba(60, 64, 67, 0.3), 0px 1px 3px 1px rgba(60, 64, 67, 0.15);\n",
              "      fill: #174EA6;\n",
              "    }\n",
              "\n",
              "    [theme=dark] .colab-df-convert {\n",
              "      background-color: #3B4455;\n",
              "      fill: #D2E3FC;\n",
              "    }\n",
              "\n",
              "    [theme=dark] .colab-df-convert:hover {\n",
              "      background-color: #434B5C;\n",
              "      box-shadow: 0px 1px 3px 1px rgba(0, 0, 0, 0.15);\n",
              "      filter: drop-shadow(0px 1px 2px rgba(0, 0, 0, 0.3));\n",
              "      fill: #FFFFFF;\n",
              "    }\n",
              "  </style>\n",
              "\n",
              "      <script>\n",
              "        const buttonEl =\n",
              "          document.querySelector('#df-e12d83af-cc72-455f-aa1a-7cf1c6bc38cb button.colab-df-convert');\n",
              "        buttonEl.style.display =\n",
              "          google.colab.kernel.accessAllowed ? 'block' : 'none';\n",
              "\n",
              "        async function convertToInteractive(key) {\n",
              "          const element = document.querySelector('#df-e12d83af-cc72-455f-aa1a-7cf1c6bc38cb');\n",
              "          const dataTable =\n",
              "            await google.colab.kernel.invokeFunction('convertToInteractive',\n",
              "                                                     [key], {});\n",
              "          if (!dataTable) return;\n",
              "\n",
              "          const docLinkHtml = 'Like what you see? Visit the ' +\n",
              "            '<a target=\"_blank\" href=https://colab.research.google.com/notebooks/data_table.ipynb>data table notebook</a>'\n",
              "            + ' to learn more about interactive tables.';\n",
              "          element.innerHTML = '';\n",
              "          dataTable['output_type'] = 'display_data';\n",
              "          await google.colab.output.renderOutput(dataTable, element);\n",
              "          const docLink = document.createElement('div');\n",
              "          docLink.innerHTML = docLinkHtml;\n",
              "          element.appendChild(docLink);\n",
              "        }\n",
              "      </script>\n",
              "    </div>\n",
              "  </div>\n",
              "  "
            ]
          },
          "metadata": {},
          "execution_count": 8
        }
      ]
    },
    {
      "cell_type": "code",
      "source": [
        "data = data[data['q_id']=='qid:4']\n",
        "data"
      ],
      "metadata": {
        "colab": {
          "base_uri": "https://localhost:8080/",
          "height": 487
        },
        "id": "JlDA1f2UnL2h",
        "outputId": "a25dcbb3-7657-4db9-e330-309267010dda"
      },
      "execution_count": 9,
      "outputs": [
        {
          "output_type": "execute_result",
          "data": {
            "text/plain": [
              "     relevance   q_id feature1 feature2 feature3 feature4 feature5  \\\n",
              "0            0  qid:4      1:3      2:0      3:2      4:0      5:3   \n",
              "1            0  qid:4      1:3      2:0      3:3      4:0      5:3   \n",
              "2            0  qid:4      1:3      2:0      3:2      4:0      5:3   \n",
              "3            0  qid:4      1:3      2:0      3:3      4:0      5:3   \n",
              "4            1  qid:4      1:3      2:0      3:3      4:0      5:3   \n",
              "..         ...    ...      ...      ...      ...      ...      ...   \n",
              "98           0  qid:4      1:3      2:0      3:2      4:0      5:3   \n",
              "99           1  qid:4      1:3      2:0      3:3      4:2      5:3   \n",
              "100          2  qid:4      1:2      2:0      3:2      4:0      5:2   \n",
              "101          1  qid:4      1:2      2:0      3:2      4:0      5:2   \n",
              "102          0  qid:4      1:3      2:0      3:2      4:0      5:3   \n",
              "\n",
              "       feature6 feature7    feature8  ... feature127 feature128 feature129  \\\n",
              "0           6:1      7:0  8:0.666667  ...     127:27      128:2      129:9   \n",
              "1           6:1      7:0         8:1  ...     127:61      128:0      129:8   \n",
              "2           6:1      7:0  8:0.666667  ...     127:31      128:2      129:8   \n",
              "3           6:1      7:0         8:1  ...     127:32     128:82     129:17   \n",
              "4           6:1      7:0         8:1  ...     127:29     128:11      129:8   \n",
              "..          ...      ...         ...  ...        ...        ...        ...   \n",
              "98          6:1      7:0  8:0.666667  ...     127:62     128:35      129:1   \n",
              "99          6:1      7:0         8:1  ...     127:52    128:367      129:6   \n",
              "100  6:0.666667      7:0  8:0.666667  ...     127:28      128:0      129:0   \n",
              "101  6:0.666667      7:0  8:0.666667  ...     127:23      128:0      129:1   \n",
              "102         6:1      7:0  8:0.666667  ...     127:59   128:1415     129:14   \n",
              "\n",
              "    feature130 feature131 feature132 feature133 feature134 feature135  \\\n",
              "0      130:124   131:4678     132:54     133:74      134:0      135:0   \n",
              "1      130:122    131:508    132:131    133:136      134:0      135:0   \n",
              "2      130:115    131:508     132:51     133:70      134:0      135:0   \n",
              "3      130:122    131:508     132:83    133:107      134:0     135:10   \n",
              "4      130:121    131:508    132:103    133:120      134:0      135:0   \n",
              "..         ...        ...        ...        ...        ...        ...   \n",
              "98     130:153   131:4872      132:9     133:55      134:0      135:0   \n",
              "99     130:153   131:2383     132:18     133:99      134:0     135:16   \n",
              "100  130:49182  131:26966     132:15     133:69      134:0    135:193   \n",
              "101  130:42877  131:26562     132:12     133:24      134:0     135:56   \n",
              "102   130:5334   131:6434      132:4     133:17      134:0      135:0   \n",
              "\n",
              "               feature136  \n",
              "0                   136:0  \n",
              "1                   136:0  \n",
              "2                   136:0  \n",
              "3               136:13.35  \n",
              "4                   136:0  \n",
              "..                    ...  \n",
              "98                  136:0  \n",
              "99   136:11.3166666666667  \n",
              "100  136:21.9355595468361  \n",
              "101  136:62.9206042323688  \n",
              "102                 136:0  \n",
              "\n",
              "[103 rows x 138 columns]"
            ],
            "text/html": [
              "\n",
              "  <div id=\"df-5c368ae5-8bc1-4769-a337-3113525e206d\">\n",
              "    <div class=\"colab-df-container\">\n",
              "      <div>\n",
              "<style scoped>\n",
              "    .dataframe tbody tr th:only-of-type {\n",
              "        vertical-align: middle;\n",
              "    }\n",
              "\n",
              "    .dataframe tbody tr th {\n",
              "        vertical-align: top;\n",
              "    }\n",
              "\n",
              "    .dataframe thead th {\n",
              "        text-align: right;\n",
              "    }\n",
              "</style>\n",
              "<table border=\"1\" class=\"dataframe\">\n",
              "  <thead>\n",
              "    <tr style=\"text-align: right;\">\n",
              "      <th></th>\n",
              "      <th>relevance</th>\n",
              "      <th>q_id</th>\n",
              "      <th>feature1</th>\n",
              "      <th>feature2</th>\n",
              "      <th>feature3</th>\n",
              "      <th>feature4</th>\n",
              "      <th>feature5</th>\n",
              "      <th>feature6</th>\n",
              "      <th>feature7</th>\n",
              "      <th>feature8</th>\n",
              "      <th>...</th>\n",
              "      <th>feature127</th>\n",
              "      <th>feature128</th>\n",
              "      <th>feature129</th>\n",
              "      <th>feature130</th>\n",
              "      <th>feature131</th>\n",
              "      <th>feature132</th>\n",
              "      <th>feature133</th>\n",
              "      <th>feature134</th>\n",
              "      <th>feature135</th>\n",
              "      <th>feature136</th>\n",
              "    </tr>\n",
              "  </thead>\n",
              "  <tbody>\n",
              "    <tr>\n",
              "      <th>0</th>\n",
              "      <td>0</td>\n",
              "      <td>qid:4</td>\n",
              "      <td>1:3</td>\n",
              "      <td>2:0</td>\n",
              "      <td>3:2</td>\n",
              "      <td>4:0</td>\n",
              "      <td>5:3</td>\n",
              "      <td>6:1</td>\n",
              "      <td>7:0</td>\n",
              "      <td>8:0.666667</td>\n",
              "      <td>...</td>\n",
              "      <td>127:27</td>\n",
              "      <td>128:2</td>\n",
              "      <td>129:9</td>\n",
              "      <td>130:124</td>\n",
              "      <td>131:4678</td>\n",
              "      <td>132:54</td>\n",
              "      <td>133:74</td>\n",
              "      <td>134:0</td>\n",
              "      <td>135:0</td>\n",
              "      <td>136:0</td>\n",
              "    </tr>\n",
              "    <tr>\n",
              "      <th>1</th>\n",
              "      <td>0</td>\n",
              "      <td>qid:4</td>\n",
              "      <td>1:3</td>\n",
              "      <td>2:0</td>\n",
              "      <td>3:3</td>\n",
              "      <td>4:0</td>\n",
              "      <td>5:3</td>\n",
              "      <td>6:1</td>\n",
              "      <td>7:0</td>\n",
              "      <td>8:1</td>\n",
              "      <td>...</td>\n",
              "      <td>127:61</td>\n",
              "      <td>128:0</td>\n",
              "      <td>129:8</td>\n",
              "      <td>130:122</td>\n",
              "      <td>131:508</td>\n",
              "      <td>132:131</td>\n",
              "      <td>133:136</td>\n",
              "      <td>134:0</td>\n",
              "      <td>135:0</td>\n",
              "      <td>136:0</td>\n",
              "    </tr>\n",
              "    <tr>\n",
              "      <th>2</th>\n",
              "      <td>0</td>\n",
              "      <td>qid:4</td>\n",
              "      <td>1:3</td>\n",
              "      <td>2:0</td>\n",
              "      <td>3:2</td>\n",
              "      <td>4:0</td>\n",
              "      <td>5:3</td>\n",
              "      <td>6:1</td>\n",
              "      <td>7:0</td>\n",
              "      <td>8:0.666667</td>\n",
              "      <td>...</td>\n",
              "      <td>127:31</td>\n",
              "      <td>128:2</td>\n",
              "      <td>129:8</td>\n",
              "      <td>130:115</td>\n",
              "      <td>131:508</td>\n",
              "      <td>132:51</td>\n",
              "      <td>133:70</td>\n",
              "      <td>134:0</td>\n",
              "      <td>135:0</td>\n",
              "      <td>136:0</td>\n",
              "    </tr>\n",
              "    <tr>\n",
              "      <th>3</th>\n",
              "      <td>0</td>\n",
              "      <td>qid:4</td>\n",
              "      <td>1:3</td>\n",
              "      <td>2:0</td>\n",
              "      <td>3:3</td>\n",
              "      <td>4:0</td>\n",
              "      <td>5:3</td>\n",
              "      <td>6:1</td>\n",
              "      <td>7:0</td>\n",
              "      <td>8:1</td>\n",
              "      <td>...</td>\n",
              "      <td>127:32</td>\n",
              "      <td>128:82</td>\n",
              "      <td>129:17</td>\n",
              "      <td>130:122</td>\n",
              "      <td>131:508</td>\n",
              "      <td>132:83</td>\n",
              "      <td>133:107</td>\n",
              "      <td>134:0</td>\n",
              "      <td>135:10</td>\n",
              "      <td>136:13.35</td>\n",
              "    </tr>\n",
              "    <tr>\n",
              "      <th>4</th>\n",
              "      <td>1</td>\n",
              "      <td>qid:4</td>\n",
              "      <td>1:3</td>\n",
              "      <td>2:0</td>\n",
              "      <td>3:3</td>\n",
              "      <td>4:0</td>\n",
              "      <td>5:3</td>\n",
              "      <td>6:1</td>\n",
              "      <td>7:0</td>\n",
              "      <td>8:1</td>\n",
              "      <td>...</td>\n",
              "      <td>127:29</td>\n",
              "      <td>128:11</td>\n",
              "      <td>129:8</td>\n",
              "      <td>130:121</td>\n",
              "      <td>131:508</td>\n",
              "      <td>132:103</td>\n",
              "      <td>133:120</td>\n",
              "      <td>134:0</td>\n",
              "      <td>135:0</td>\n",
              "      <td>136:0</td>\n",
              "    </tr>\n",
              "    <tr>\n",
              "      <th>...</th>\n",
              "      <td>...</td>\n",
              "      <td>...</td>\n",
              "      <td>...</td>\n",
              "      <td>...</td>\n",
              "      <td>...</td>\n",
              "      <td>...</td>\n",
              "      <td>...</td>\n",
              "      <td>...</td>\n",
              "      <td>...</td>\n",
              "      <td>...</td>\n",
              "      <td>...</td>\n",
              "      <td>...</td>\n",
              "      <td>...</td>\n",
              "      <td>...</td>\n",
              "      <td>...</td>\n",
              "      <td>...</td>\n",
              "      <td>...</td>\n",
              "      <td>...</td>\n",
              "      <td>...</td>\n",
              "      <td>...</td>\n",
              "      <td>...</td>\n",
              "    </tr>\n",
              "    <tr>\n",
              "      <th>98</th>\n",
              "      <td>0</td>\n",
              "      <td>qid:4</td>\n",
              "      <td>1:3</td>\n",
              "      <td>2:0</td>\n",
              "      <td>3:2</td>\n",
              "      <td>4:0</td>\n",
              "      <td>5:3</td>\n",
              "      <td>6:1</td>\n",
              "      <td>7:0</td>\n",
              "      <td>8:0.666667</td>\n",
              "      <td>...</td>\n",
              "      <td>127:62</td>\n",
              "      <td>128:35</td>\n",
              "      <td>129:1</td>\n",
              "      <td>130:153</td>\n",
              "      <td>131:4872</td>\n",
              "      <td>132:9</td>\n",
              "      <td>133:55</td>\n",
              "      <td>134:0</td>\n",
              "      <td>135:0</td>\n",
              "      <td>136:0</td>\n",
              "    </tr>\n",
              "    <tr>\n",
              "      <th>99</th>\n",
              "      <td>1</td>\n",
              "      <td>qid:4</td>\n",
              "      <td>1:3</td>\n",
              "      <td>2:0</td>\n",
              "      <td>3:3</td>\n",
              "      <td>4:2</td>\n",
              "      <td>5:3</td>\n",
              "      <td>6:1</td>\n",
              "      <td>7:0</td>\n",
              "      <td>8:1</td>\n",
              "      <td>...</td>\n",
              "      <td>127:52</td>\n",
              "      <td>128:367</td>\n",
              "      <td>129:6</td>\n",
              "      <td>130:153</td>\n",
              "      <td>131:2383</td>\n",
              "      <td>132:18</td>\n",
              "      <td>133:99</td>\n",
              "      <td>134:0</td>\n",
              "      <td>135:16</td>\n",
              "      <td>136:11.3166666666667</td>\n",
              "    </tr>\n",
              "    <tr>\n",
              "      <th>100</th>\n",
              "      <td>2</td>\n",
              "      <td>qid:4</td>\n",
              "      <td>1:2</td>\n",
              "      <td>2:0</td>\n",
              "      <td>3:2</td>\n",
              "      <td>4:0</td>\n",
              "      <td>5:2</td>\n",
              "      <td>6:0.666667</td>\n",
              "      <td>7:0</td>\n",
              "      <td>8:0.666667</td>\n",
              "      <td>...</td>\n",
              "      <td>127:28</td>\n",
              "      <td>128:0</td>\n",
              "      <td>129:0</td>\n",
              "      <td>130:49182</td>\n",
              "      <td>131:26966</td>\n",
              "      <td>132:15</td>\n",
              "      <td>133:69</td>\n",
              "      <td>134:0</td>\n",
              "      <td>135:193</td>\n",
              "      <td>136:21.9355595468361</td>\n",
              "    </tr>\n",
              "    <tr>\n",
              "      <th>101</th>\n",
              "      <td>1</td>\n",
              "      <td>qid:4</td>\n",
              "      <td>1:2</td>\n",
              "      <td>2:0</td>\n",
              "      <td>3:2</td>\n",
              "      <td>4:0</td>\n",
              "      <td>5:2</td>\n",
              "      <td>6:0.666667</td>\n",
              "      <td>7:0</td>\n",
              "      <td>8:0.666667</td>\n",
              "      <td>...</td>\n",
              "      <td>127:23</td>\n",
              "      <td>128:0</td>\n",
              "      <td>129:1</td>\n",
              "      <td>130:42877</td>\n",
              "      <td>131:26562</td>\n",
              "      <td>132:12</td>\n",
              "      <td>133:24</td>\n",
              "      <td>134:0</td>\n",
              "      <td>135:56</td>\n",
              "      <td>136:62.9206042323688</td>\n",
              "    </tr>\n",
              "    <tr>\n",
              "      <th>102</th>\n",
              "      <td>0</td>\n",
              "      <td>qid:4</td>\n",
              "      <td>1:3</td>\n",
              "      <td>2:0</td>\n",
              "      <td>3:2</td>\n",
              "      <td>4:0</td>\n",
              "      <td>5:3</td>\n",
              "      <td>6:1</td>\n",
              "      <td>7:0</td>\n",
              "      <td>8:0.666667</td>\n",
              "      <td>...</td>\n",
              "      <td>127:59</td>\n",
              "      <td>128:1415</td>\n",
              "      <td>129:14</td>\n",
              "      <td>130:5334</td>\n",
              "      <td>131:6434</td>\n",
              "      <td>132:4</td>\n",
              "      <td>133:17</td>\n",
              "      <td>134:0</td>\n",
              "      <td>135:0</td>\n",
              "      <td>136:0</td>\n",
              "    </tr>\n",
              "  </tbody>\n",
              "</table>\n",
              "<p>103 rows × 138 columns</p>\n",
              "</div>\n",
              "      <button class=\"colab-df-convert\" onclick=\"convertToInteractive('df-5c368ae5-8bc1-4769-a337-3113525e206d')\"\n",
              "              title=\"Convert this dataframe to an interactive table.\"\n",
              "              style=\"display:none;\">\n",
              "        \n",
              "  <svg xmlns=\"http://www.w3.org/2000/svg\" height=\"24px\"viewBox=\"0 0 24 24\"\n",
              "       width=\"24px\">\n",
              "    <path d=\"M0 0h24v24H0V0z\" fill=\"none\"/>\n",
              "    <path d=\"M18.56 5.44l.94 2.06.94-2.06 2.06-.94-2.06-.94-.94-2.06-.94 2.06-2.06.94zm-11 1L8.5 8.5l.94-2.06 2.06-.94-2.06-.94L8.5 2.5l-.94 2.06-2.06.94zm10 10l.94 2.06.94-2.06 2.06-.94-2.06-.94-.94-2.06-.94 2.06-2.06.94z\"/><path d=\"M17.41 7.96l-1.37-1.37c-.4-.4-.92-.59-1.43-.59-.52 0-1.04.2-1.43.59L10.3 9.45l-7.72 7.72c-.78.78-.78 2.05 0 2.83L4 21.41c.39.39.9.59 1.41.59.51 0 1.02-.2 1.41-.59l7.78-7.78 2.81-2.81c.8-.78.8-2.07 0-2.86zM5.41 20L4 18.59l7.72-7.72 1.47 1.35L5.41 20z\"/>\n",
              "  </svg>\n",
              "      </button>\n",
              "      \n",
              "  <style>\n",
              "    .colab-df-container {\n",
              "      display:flex;\n",
              "      flex-wrap:wrap;\n",
              "      gap: 12px;\n",
              "    }\n",
              "\n",
              "    .colab-df-convert {\n",
              "      background-color: #E8F0FE;\n",
              "      border: none;\n",
              "      border-radius: 50%;\n",
              "      cursor: pointer;\n",
              "      display: none;\n",
              "      fill: #1967D2;\n",
              "      height: 32px;\n",
              "      padding: 0 0 0 0;\n",
              "      width: 32px;\n",
              "    }\n",
              "\n",
              "    .colab-df-convert:hover {\n",
              "      background-color: #E2EBFA;\n",
              "      box-shadow: 0px 1px 2px rgba(60, 64, 67, 0.3), 0px 1px 3px 1px rgba(60, 64, 67, 0.15);\n",
              "      fill: #174EA6;\n",
              "    }\n",
              "\n",
              "    [theme=dark] .colab-df-convert {\n",
              "      background-color: #3B4455;\n",
              "      fill: #D2E3FC;\n",
              "    }\n",
              "\n",
              "    [theme=dark] .colab-df-convert:hover {\n",
              "      background-color: #434B5C;\n",
              "      box-shadow: 0px 1px 3px 1px rgba(0, 0, 0, 0.15);\n",
              "      filter: drop-shadow(0px 1px 2px rgba(0, 0, 0, 0.3));\n",
              "      fill: #FFFFFF;\n",
              "    }\n",
              "  </style>\n",
              "\n",
              "      <script>\n",
              "        const buttonEl =\n",
              "          document.querySelector('#df-5c368ae5-8bc1-4769-a337-3113525e206d button.colab-df-convert');\n",
              "        buttonEl.style.display =\n",
              "          google.colab.kernel.accessAllowed ? 'block' : 'none';\n",
              "\n",
              "        async function convertToInteractive(key) {\n",
              "          const element = document.querySelector('#df-5c368ae5-8bc1-4769-a337-3113525e206d');\n",
              "          const dataTable =\n",
              "            await google.colab.kernel.invokeFunction('convertToInteractive',\n",
              "                                                     [key], {});\n",
              "          if (!dataTable) return;\n",
              "\n",
              "          const docLinkHtml = 'Like what you see? Visit the ' +\n",
              "            '<a target=\"_blank\" href=https://colab.research.google.com/notebooks/data_table.ipynb>data table notebook</a>'\n",
              "            + ' to learn more about interactive tables.';\n",
              "          element.innerHTML = '';\n",
              "          dataTable['output_type'] = 'display_data';\n",
              "          await google.colab.output.renderOutput(dataTable, element);\n",
              "          const docLink = document.createElement('div');\n",
              "          docLink.innerHTML = docLinkHtml;\n",
              "          element.appendChild(docLink);\n",
              "        }\n",
              "      </script>\n",
              "    </div>\n",
              "  </div>\n",
              "  "
            ]
          },
          "metadata": {},
          "execution_count": 9
        }
      ]
    },
    {
      "cell_type": "code",
      "source": [
        "names = data.columns\n",
        "for col in names:\n",
        "  print(col)\n",
        "  if col!='relevance':\n",
        "    data[col] = data[col].str.split(\":\",expand=True)[1]\n",
        "data"
      ],
      "metadata": {
        "id": "6kY401Ir0fow"
      },
      "execution_count": null,
      "outputs": []
    },
    {
      "cell_type": "code",
      "source": [],
      "metadata": {
        "id": "lGp53fVI0NfU"
      },
      "execution_count": null,
      "outputs": []
    },
    {
      "cell_type": "code",
      "source": [
        "data.shape[0]"
      ],
      "metadata": {
        "colab": {
          "base_uri": "https://localhost:8080/"
        },
        "id": "E-JDj-Kq7MXM",
        "outputId": "49b00cb1-9949-4190-bfda-a6f24fef564c"
      },
      "execution_count": 11,
      "outputs": [
        {
          "output_type": "execute_result",
          "data": {
            "text/plain": [
              "103"
            ]
          },
          "metadata": {},
          "execution_count": 11
        }
      ]
    },
    {
      "cell_type": "code",
      "source": [
        "# data = data.sort_values('relevance')\n",
        "# data = data[::-1]\n",
        "# data\n",
        "\n",
        "l = data.shape[0]\n",
        "rel_score = {}\n",
        "for i in range(l):\n",
        "  rel_score[i]=data['relevance'][i]\n",
        "rel_score"
      ],
      "metadata": {
        "id": "4g_Xk-9K64jV"
      },
      "execution_count": null,
      "outputs": []
    },
    {
      "cell_type": "code",
      "source": [
        "import operator as op"
      ],
      "metadata": {
        "id": "j__5Tmq3F0JS"
      },
      "execution_count": 13,
      "outputs": []
    },
    {
      "cell_type": "code",
      "source": [
        "# rel_score = {key: value for key, value in sorted(rel_score.items(), key=lambda item: item[1])}\n",
        "rel_score_sort = sorted(rel_score.items(), key=op.itemgetter(1),reverse=True)\n",
        "rel_score_sort = dict(rel_score_sort)\n",
        "rel_score_sort"
      ],
      "metadata": {
        "id": "lEqkv0o78vry"
      },
      "execution_count": null,
      "outputs": []
    },
    {
      "cell_type": "code",
      "source": [
        "# rel_score_df = pd.DataFrame(rel_score,columns=['index','relevance'])"
      ],
      "metadata": {
        "id": "wnpf_cTmYrlw"
      },
      "execution_count": null,
      "outputs": []
    },
    {
      "cell_type": "code",
      "source": [
        "rel = data['relevance'].unique()\n",
        "rel"
      ],
      "metadata": {
        "colab": {
          "base_uri": "https://localhost:8080/"
        },
        "id": "quUFdIVcJK4G",
        "outputId": "181d7a2c-5b9c-4018-c9a5-622bb7411281"
      },
      "execution_count": 15,
      "outputs": [
        {
          "output_type": "execute_result",
          "data": {
            "text/plain": [
              "array([0, 1, 3, 2])"
            ]
          },
          "metadata": {},
          "execution_count": 15
        }
      ]
    },
    {
      "cell_type": "code",
      "source": [
        "\n",
        "\n",
        "freq_0 = 0\n",
        "freq_1 = 0 \n",
        "freq_2 = 0\n",
        "freq_3 = 0\n"
      ],
      "metadata": {
        "id": "_BiEeLnu8lFB"
      },
      "execution_count": 16,
      "outputs": []
    },
    {
      "cell_type": "code",
      "source": [
        "\n",
        "for x in rel_score_sort.values():\n",
        "  if x == 0:\n",
        "    freq_0+=1\n",
        "  elif x == 1:\n",
        "    freq_1+=1\n",
        "  elif x == 2:\n",
        "    freq_2+=1\n",
        "  else:\n",
        "    freq_3+=1\n",
        "\n",
        "print(fact(freq_0)* fact(freq_1) * fact(freq_2) * fact(freq_3))\n",
        "#print((freq_0)* (freq_1) * (freq_2) * (freq_3))\n"
      ],
      "metadata": {
        "colab": {
          "base_uri": "https://localhost:8080/"
        },
        "id": "qBrPu5WiHPwy",
        "outputId": "3c9511ad-bf41-4b0c-e0cd-cdc8dda7a7a7"
      },
      "execution_count": 17,
      "outputs": [
        {
          "output_type": "stream",
          "name": "stdout",
          "text": [
            "19893497375938370599826047614905329896936840170566570588205180312704857992695193482412686565431050240000000000000000000000\n"
          ]
        }
      ]
    },
    {
      "cell_type": "code",
      "source": [
        "freq_3"
      ],
      "metadata": {
        "id": "TlWoVvfRWGZA"
      },
      "execution_count": null,
      "outputs": []
    },
    {
      "cell_type": "code",
      "source": [
        "print(rel_score)\n",
        "print(rel_score_sort)"
      ],
      "metadata": {
        "colab": {
          "base_uri": "https://localhost:8080/"
        },
        "id": "Pas3jhaTso5X",
        "outputId": "abea5776-be01-45da-c3d7-ec5cf5eaa29a"
      },
      "execution_count": 18,
      "outputs": [
        {
          "output_type": "stream",
          "name": "stdout",
          "text": [
            "{0: 0, 1: 0, 2: 0, 3: 0, 4: 1, 5: 0, 6: 1, 7: 3, 8: 0, 9: 0, 10: 1, 11: 0, 12: 0, 13: 1, 14: 0, 15: 0, 16: 0, 17: 1, 18: 2, 19: 2, 20: 1, 21: 2, 22: 2, 23: 0, 24: 1, 25: 2, 26: 0, 27: 0, 28: 0, 29: 1, 30: 0, 31: 0, 32: 1, 33: 0, 34: 2, 35: 0, 36: 2, 37: 2, 38: 1, 39: 0, 40: 2, 41: 0, 42: 0, 43: 0, 44: 0, 45: 0, 46: 0, 47: 0, 48: 0, 49: 0, 50: 0, 51: 0, 52: 2, 53: 1, 54: 0, 55: 1, 56: 0, 57: 0, 58: 2, 59: 0, 60: 1, 61: 2, 62: 2, 63: 0, 64: 0, 65: 0, 66: 1, 67: 0, 68: 2, 69: 0, 70: 0, 71: 0, 72: 1, 73: 0, 74: 1, 75: 1, 76: 2, 77: 0, 78: 0, 79: 0, 80: 0, 81: 0, 82: 1, 83: 1, 84: 1, 85: 1, 86: 0, 87: 0, 88: 1, 89: 0, 90: 2, 91: 0, 92: 1, 93: 0, 94: 0, 95: 0, 96: 1, 97: 0, 98: 0, 99: 1, 100: 2, 101: 1, 102: 0}\n",
            "{7: 3, 18: 2, 19: 2, 21: 2, 22: 2, 25: 2, 34: 2, 36: 2, 37: 2, 40: 2, 52: 2, 58: 2, 61: 2, 62: 2, 68: 2, 76: 2, 90: 2, 100: 2, 4: 1, 6: 1, 10: 1, 13: 1, 17: 1, 20: 1, 24: 1, 29: 1, 32: 1, 38: 1, 53: 1, 55: 1, 60: 1, 66: 1, 72: 1, 74: 1, 75: 1, 82: 1, 83: 1, 84: 1, 85: 1, 88: 1, 92: 1, 96: 1, 99: 1, 101: 1, 0: 0, 1: 0, 2: 0, 3: 0, 5: 0, 8: 0, 9: 0, 11: 0, 12: 0, 14: 0, 15: 0, 16: 0, 23: 0, 26: 0, 27: 0, 28: 0, 30: 0, 31: 0, 33: 0, 35: 0, 39: 0, 41: 0, 42: 0, 43: 0, 44: 0, 45: 0, 46: 0, 47: 0, 48: 0, 49: 0, 50: 0, 51: 0, 54: 0, 56: 0, 57: 0, 59: 0, 63: 0, 64: 0, 65: 0, 67: 0, 69: 0, 70: 0, 71: 0, 73: 0, 77: 0, 78: 0, 79: 0, 80: 0, 81: 0, 86: 0, 87: 0, 89: 0, 91: 0, 93: 0, 94: 0, 95: 0, 97: 0, 98: 0, 102: 0}\n"
          ]
        }
      ]
    },
    {
      "cell_type": "code",
      "source": [
        "\n"
      ],
      "metadata": {
        "id": "fpHP1VTGu2H2"
      },
      "execution_count": null,
      "outputs": []
    },
    {
      "cell_type": "code",
      "source": [
        "def compute_dcg(data,size):\n",
        "  data = list(data.values())\n",
        "  res = data[0]\n",
        "  for i in range(1,size):\n",
        "    res+= data[i]/(lg(i+1))\n",
        "  return res"
      ],
      "metadata": {
        "id": "82X-pnX4Ppdm"
      },
      "execution_count": 19,
      "outputs": []
    },
    {
      "cell_type": "code",
      "source": [
        "sort_dcg = compute_dcg(rel_score_sort,len(rel_score_sort))\n",
        "sort_dcg"
      ],
      "metadata": {
        "colab": {
          "base_uri": "https://localhost:8080/"
        },
        "id": "4QaDPAE0X7ot",
        "outputId": "b6f50a7c-13f0-4fa2-cda0-bc50d1308822"
      },
      "execution_count": 20,
      "outputs": [
        {
          "output_type": "execute_result",
          "data": {
            "text/plain": [
              "20.989750804831445"
            ]
          },
          "metadata": {},
          "execution_count": 20
        }
      ]
    },
    {
      "cell_type": "code",
      "source": [
        "unsort_dcg = compute_dcg(rel_score,len(rel_score))\n",
        "unsort_dcg"
      ],
      "metadata": {
        "colab": {
          "base_uri": "https://localhost:8080/"
        },
        "id": "8f8S6DUIq96x",
        "outputId": "44a0bac9-e8cb-47ee-f537-035b21fcdde6"
      },
      "execution_count": 21,
      "outputs": [
        {
          "output_type": "execute_result",
          "data": {
            "text/plain": [
              "12.550247459532576"
            ]
          },
          "metadata": {},
          "execution_count": 21
        }
      ]
    },
    {
      "cell_type": "code",
      "source": [
        "print(unsort_dcg/sort_dcg)"
      ],
      "metadata": {
        "colab": {
          "base_uri": "https://localhost:8080/"
        },
        "id": "9_t9lLOfwZZR",
        "outputId": "945589e5-dbaf-497e-c733-0561a41fb862"
      },
      "execution_count": 22,
      "outputs": [
        {
          "output_type": "stream",
          "name": "stdout",
          "text": [
            "0.5979226516897831\n"
          ]
        }
      ]
    },
    {
      "cell_type": "code",
      "source": [
        "sort_dcg_50 = compute_dcg(rel_score_sort,51)\n",
        "sort_dcg_50"
      ],
      "metadata": {
        "colab": {
          "base_uri": "https://localhost:8080/"
        },
        "id": "TKiyh9pHwtzF",
        "outputId": "3df2d80a-4553-4751-a068-69a507714485"
      },
      "execution_count": 23,
      "outputs": [
        {
          "output_type": "execute_result",
          "data": {
            "text/plain": [
              "20.989750804831445"
            ]
          },
          "metadata": {},
          "execution_count": 23
        }
      ]
    },
    {
      "cell_type": "code",
      "source": [
        "unsort_dcg_50 = compute_dcg(rel_score,51)\n",
        "unsort_dcg_50"
      ],
      "metadata": {
        "colab": {
          "base_uri": "https://localhost:8080/"
        },
        "id": "DiItSKfLxUqQ",
        "outputId": "59e1b72e-0f0d-45b8-d826-bbb261a884d6"
      },
      "execution_count": 24,
      "outputs": [
        {
          "output_type": "execute_result",
          "data": {
            "text/plain": [
              "7.390580969258021"
            ]
          },
          "metadata": {},
          "execution_count": 24
        }
      ]
    },
    {
      "cell_type": "code",
      "source": [
        "print(unsort_dcg_50/sort_dcg_50)"
      ],
      "metadata": {
        "colab": {
          "base_uri": "https://localhost:8080/"
        },
        "id": "InEzhrPuxeUm",
        "outputId": "bacea072-b86e-4e33-9d22-5fad45e2a237"
      },
      "execution_count": 25,
      "outputs": [
        {
          "output_type": "stream",
          "name": "stdout",
          "text": [
            "0.3521042740324887\n"
          ]
        }
      ]
    },
    {
      "cell_type": "code",
      "source": [],
      "metadata": {
        "id": "9CtCfr37uu4v"
      },
      "execution_count": null,
      "outputs": []
    },
    {
      "cell_type": "code",
      "source": [
        "data.shape"
      ],
      "metadata": {
        "id": "sYMbiLW4-vyM"
      },
      "execution_count": null,
      "outputs": []
    },
    {
      "cell_type": "code",
      "source": [
        "\n",
        "def relevant_tf(data, tf_pair):\n",
        "  size = len(data)\n",
        "  for i in range(size):\n",
        "    feat75 = float(data.at[i,'feature75'])\n",
        "    relv = data.at[i,'relevance']\n",
        "    x = (relv,feat75)\n",
        "    tf_pair[i] = x\n",
        "  return tf_pair"
      ],
      "metadata": {
        "id": "15rknFOyv4Fi"
      },
      "execution_count": 27,
      "outputs": []
    },
    {
      "cell_type": "code",
      "source": [
        "tf = {}\n",
        "tf = relevant_tf(data,tf)\n",
        "print(tf)"
      ],
      "metadata": {
        "colab": {
          "base_uri": "https://localhost:8080/"
        },
        "id": "qy8qOi1YAOD4",
        "outputId": "c14c6a1b-6a2a-4609-9d93-72b7227ae5dd"
      },
      "execution_count": 28,
      "outputs": [
        {
          "output_type": "stream",
          "name": "stdout",
          "text": [
            "{0: (0, 90.53171), 1: (0, 538.388954), 2: (0, 88.171761), 3: (0, 144.564444), 4: (1, 142.589323), 5: (0, 463.099129), 6: (1, 103.400313), 7: (3, 411.010633), 8: (0, 972.826451), 9: (0, 142.589323), 10: (1, 84.625987), 11: (0, 91.160998), 12: (0, 180.720002), 13: (1, 237.21632), 14: (0, 22.480108), 15: (0, 84.625987), 16: (0, 14.972391), 17: (1, 42.227139), 18: (2, 81.947653), 19: (2, 157.05992), 20: (1, 84.625987), 21: (2, 143.445062), 22: (2, 166.683125), 23: (0, 70.466293), 24: (1, 121.96152), 25: (2, 69.811973), 26: (0, 74.434086), 27: (0, 186.375414), 28: (0, 79.630746), 29: (1, 176.875026), 30: (0, 19.313312), 31: (0, 187.934366), 32: (1, 94.958714), 33: (0, 121.007996), 34: (2, 89.877389), 35: (0, 85.634253), 36: (2, 217.848266), 37: (2, 156.301965), 38: (1, 200.840161), 39: (0, 201.720933), 40: (2, 192.953467), 41: (0, 212.401296), 42: (0, 169.844071), 43: (0, 148.415271), 44: (0, 148.415271), 45: (0, 91.717534), 46: (0, 143.769297), 47: (0, 71.646268), 48: (0, 185.617459), 49: (0, 3.539923), 50: (0, 176.000104), 51: (0, 76.360315), 52: (2, 237.21632), 53: (1, 202.442155), 54: (0, 305.102064), 55: (1, 188.936782), 56: (0, 571.500533), 57: (0, 68.100494), 58: (2, 142.038637), 59: (0, 188.129935), 60: (1, 439.396463), 61: (2, 161.455583), 62: (2, 161.15638), 63: (0, 98.418404), 64: (0, 43.297629), 65: (0, 226.444023), 66: (1, 77.167163), 67: (0, 612.893205), 68: (2, 121.814843), 69: (0, 95.257458), 70: (0, 18.133337), 71: (0, 95.257458), 72: (1, 198.480212), 73: (0, 316.319283), 74: (1, 81.140806), 75: (1, 85.805962), 76: (2, 108.548081), 77: (0, 75.987188), 78: (0, 84.625987), 79: (0, 177.168378), 80: (0, 200.840161), 81: (0, 3.539923), 82: (1, 140.479685), 83: (1, 84.625987), 84: (1, 292.184568), 85: (1, 180.24324), 86: (0, 14.972391), 87: (0, 84.625987), 88: (1, 98.148911), 89: (0, 130.655061), 90: (2, 311.705149), 91: (0, 73.279603), 92: (1, 81.140806), 93: (0, 142.9683), 94: (0, 15.773388), 95: (0, 161.455583), 96: (1, 18.133337), 97: (0, 22.419515), 98: (0, 70.460443), 99: (1, 270.13233), 100: (2, 296.023694), 101: (1, 528.520116), 102: (0, 84.625987)}\n"
          ]
        }
      ]
    },
    {
      "cell_type": "code",
      "source": [
        "sorted_tf = sorted(tf.items(), key = lambda kv:(kv[1][1], kv[0]),reverse=True)\n"
      ],
      "metadata": {
        "id": "Dl6m1CjODuOz"
      },
      "execution_count": null,
      "outputs": []
    },
    {
      "cell_type": "code",
      "source": [
        "def calc_prec_rec(tf,num_of_rel_docs,size):\n",
        "  rel_docs = 0\n",
        "  prec = []\n",
        "  rec = []\n",
        "\n",
        "  for i in range(size):\n",
        "    if tf[i][1][0] != 0:\n",
        "      rel_docs+=1\n",
        "    rec.append(rel_docs/num_of_rel_docs)\n",
        "    prec.append(rel_docs/(i+1))\n",
        "\n",
        "  return prec, rec\n",
        "    \n"
      ],
      "metadata": {
        "id": "0HjUAPw1BkDI"
      },
      "execution_count": 30,
      "outputs": []
    },
    {
      "cell_type": "code",
      "source": [
        "prec, rec = calc_prec_rec(sorted_tf,44,len(sorted_tf))"
      ],
      "metadata": {
        "id": "7RpN3BV7H-5b"
      },
      "execution_count": 31,
      "outputs": []
    },
    {
      "cell_type": "code",
      "source": [
        "plt.plot(prec,rec)\n",
        "plt.xlabel(\"Precision\")\n",
        "plt.ylabel(\"Recall\")\n",
        "plt.title(\"Tradeoff between precision and recall\")\n",
        "plt.show()"
      ],
      "metadata": {
        "colab": {
          "base_uri": "https://localhost:8080/",
          "height": 295
        },
        "id": "kk1gET6LJyRh",
        "outputId": "38a116aa-2143-40d4-85c2-9b4359ae64b5"
      },
      "execution_count": 32,
      "outputs": [
        {
          "output_type": "display_data",
          "data": {
            "text/plain": [
              "<Figure size 432x288 with 1 Axes>"
            ],
            "image/png": "[encoded data removed]"
          },
          "metadata": {
            "needs_background": "light"
          }
        }
      ]
    }
  ]
}