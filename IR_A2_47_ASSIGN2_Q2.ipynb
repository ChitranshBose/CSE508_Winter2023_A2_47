{
  "nbformat": 4,
  "nbformat_minor": 0,
  "metadata": {
    "colab": {
      "provenance": [],
      "authorship_tag": "ABX9TyPuIQXTyPPN/wsPUnFW8S1j",
      "include_colab_link": true
    },
    "kernelspec": {
      "name": "python3",
      "display_name": "Python 3"
    },
    "language_info": {
      "name": "python"
    }
  },
  "cells": [
    {
      "cell_type": "markdown",
      "metadata": {
        "id": "view-in-github",
        "colab_type": "text"
      },
      "source": [
        "<a href=\"https://colab.research.google.com/github/ChitranshBose/CSE508_Winter2023_A2_47/blob/main/IR_A2_47_ASSIGN2_Q2.ipynb\" target=\"_parent\"><img src=\"https://colab.research.google.com/assets/colab-badge.svg\" alt=\"Open In Colab\"/></a>"
      ]
    },
    {
      "cell_type": "code",
      "execution_count": 444,
      "metadata": {
        "colab": {
          "base_uri": "https://localhost:8080/"
        },
        "id": "0fLDvdK5dXnr",
        "outputId": "acc1a9bf-8001-4aa6-de58-e5bf2091a414"
      },
      "outputs": [
        {
          "output_type": "stream",
          "name": "stderr",
          "text": [
            "[nltk_data] Downloading package punkt to /root/nltk_data...\n",
            "[nltk_data]   Package punkt is already up-to-date!\n",
            "[nltk_data] Downloading package stopwords to /root/nltk_data...\n",
            "[nltk_data]   Package stopwords is already up-to-date!\n",
            "[nltk_data] Downloading package averaged_perceptron_tagger to\n",
            "[nltk_data]     /root/nltk_data...\n",
            "[nltk_data]   Package averaged_perceptron_tagger is already up-to-\n",
            "[nltk_data]       date!\n",
            "[nltk_data] Downloading package wordnet to /root/nltk_data...\n",
            "[nltk_data]   Package wordnet is already up-to-date!\n",
            "[nltk_data] Downloading package omw-1.4 to /root/nltk_data...\n",
            "[nltk_data]   Package omw-1.4 is already up-to-date!\n"
          ]
        }
      ],
      "source": [
        "# importing necessary libraries\n",
        "import pandas as pd\n",
        "import warnings\n",
        "import numpy as np\n",
        "warnings.filterwarnings('ignore')\n",
        "import seaborn as sns\n",
        "from sklearn.naive_bayes import MultinomialNB\n",
        "import matplotlib.pyplot as plt\n",
        "from sklearn.tree import DecisionTreeClassifier\n",
        "from sklearn.model_selection import train_test_split \n",
        "\n",
        "from sklearn.preprocessing import  StandardScaler \n",
        "from sklearn import metrics as mt\n",
        "\n",
        "import nltk\n",
        "nltk.download('punkt')\n",
        "from nltk import word_tokenize\n",
        "nltk.download('stopwords')\n",
        "from nltk.corpus import stopwords\n",
        "from nltk.tokenize import RegexpTokenizer\n",
        "from nltk import FreqDist\n",
        "from nltk.stem import WordNetLemmatizer\n",
        "from nltk import word_tokenize, pos_tag\n",
        "nltk.download('averaged_perceptron_tagger')\n",
        "nltk.download('wordnet')\n",
        "nltk.download('omw-1.4')\n",
        "\n",
        "import re\n",
        "\n",
        "from sklearn.feature_extraction.text import CountVectorizer\n",
        "\n",
        "from nltk.stem import PorterStemmer\n"
      ]
    },
    {
      "cell_type": "markdown",
      "source": [
        "**Preprocessing** "
      ],
      "metadata": {
        "id": "ehRRCftwElRm"
      }
    },
    {
      "cell_type": "code",
      "source": [
        "# reading data and removing the unncessary column\n",
        "data_train = pd.read_csv(\"BBC News Train.csv\", on_bad_lines='skip', encoding=\"ISO-8859-1\")\n",
        "data_train.drop(['ArticleId'],inplace=True,axis=1)\n",
        "data_train.head()\n"
      ],
      "metadata": {
        "colab": {
          "base_uri": "https://localhost:8080/",
          "height": 206
        },
        "id": "0BPmV1W8lwMQ",
        "outputId": "0bbd7083-aa6d-427b-81e0-478bc9ce3d92"
      },
      "execution_count": 445,
      "outputs": [
        {
          "output_type": "execute_result",
          "data": {
            "text/plain": [
              "                                                Text  Category\n",
              "0  worldcom ex-boss launches defence lawyers defe...  business\n",
              "1  german business confidence slides german busin...  business\n",
              "2  bbc poll indicates economic gloom citizens in ...  business\n",
              "3  lifestyle  governs mobile choice  faster  bett...      tech\n",
              "4  enron bosses in $168m payout eighteen former e...  business"
            ],
            "text/html": [
              "\n",
              "  <div id=\"df-c961711b-7558-4e24-b21e-daa9be89c450\">\n",
              "    <div class=\"colab-df-container\">\n",
              "      <div>\n",
              "<style scoped>\n",
              "    .dataframe tbody tr th:only-of-type {\n",
              "        vertical-align: middle;\n",
              "    }\n",
              "\n",
              "    .dataframe tbody tr th {\n",
              "        vertical-align: top;\n",
              "    }\n",
              "\n",
              "    .dataframe thead th {\n",
              "        text-align: right;\n",
              "    }\n",
              "</style>\n",
              "<table border=\"1\" class=\"dataframe\">\n",
              "  <thead>\n",
              "    <tr style=\"text-align: right;\">\n",
              "      <th></th>\n",
              "      <th>Text</th>\n",
              "      <th>Category</th>\n",
              "    </tr>\n",
              "  </thead>\n",
              "  <tbody>\n",
              "    <tr>\n",
              "      <th>0</th>\n",
              "      <td>worldcom ex-boss launches defence lawyers defe...</td>\n",
              "      <td>business</td>\n",
              "    </tr>\n",
              "    <tr>\n",
              "      <th>1</th>\n",
              "      <td>german business confidence slides german busin...</td>\n",
              "      <td>business</td>\n",
              "    </tr>\n",
              "    <tr>\n",
              "      <th>2</th>\n",
              "      <td>bbc poll indicates economic gloom citizens in ...</td>\n",
              "      <td>business</td>\n",
              "    </tr>\n",
              "    <tr>\n",
              "      <th>3</th>\n",
              "      <td>lifestyle  governs mobile choice  faster  bett...</td>\n",
              "      <td>tech</td>\n",
              "    </tr>\n",
              "    <tr>\n",
              "      <th>4</th>\n",
              "      <td>enron bosses in $168m payout eighteen former e...</td>\n",
              "      <td>business</td>\n",
              "    </tr>\n",
              "  </tbody>\n",
              "</table>\n",
              "</div>\n",
              "      <button class=\"colab-df-convert\" onclick=\"convertToInteractive('df-c961711b-7558-4e24-b21e-daa9be89c450')\"\n",
              "              title=\"Convert this dataframe to an interactive table.\"\n",
              "              style=\"display:none;\">\n",
              "        \n",
              "  <svg xmlns=\"http://www.w3.org/2000/svg\" height=\"24px\"viewBox=\"0 0 24 24\"\n",
              "       width=\"24px\">\n",
              "    <path d=\"M0 0h24v24H0V0z\" fill=\"none\"/>\n",
              "    <path d=\"M18.56 5.44l.94 2.06.94-2.06 2.06-.94-2.06-.94-.94-2.06-.94 2.06-2.06.94zm-11 1L8.5 8.5l.94-2.06 2.06-.94-2.06-.94L8.5 2.5l-.94 2.06-2.06.94zm10 10l.94 2.06.94-2.06 2.06-.94-2.06-.94-.94-2.06-.94 2.06-2.06.94z\"/><path d=\"M17.41 7.96l-1.37-1.37c-.4-.4-.92-.59-1.43-.59-.52 0-1.04.2-1.43.59L10.3 9.45l-7.72 7.72c-.78.78-.78 2.05 0 2.83L4 21.41c.39.39.9.59 1.41.59.51 0 1.02-.2 1.41-.59l7.78-7.78 2.81-2.81c.8-.78.8-2.07 0-2.86zM5.41 20L4 18.59l7.72-7.72 1.47 1.35L5.41 20z\"/>\n",
              "  </svg>\n",
              "      </button>\n",
              "      \n",
              "  <style>\n",
              "    .colab-df-container {\n",
              "      display:flex;\n",
              "      flex-wrap:wrap;\n",
              "      gap: 12px;\n",
              "    }\n",
              "\n",
              "    .colab-df-convert {\n",
              "      background-color: #E8F0FE;\n",
              "      border: none;\n",
              "      border-radius: 50%;\n",
              "      cursor: pointer;\n",
              "      display: none;\n",
              "      fill: #1967D2;\n",
              "      height: 32px;\n",
              "      padding: 0 0 0 0;\n",
              "      width: 32px;\n",
              "    }\n",
              "\n",
              "    .colab-df-convert:hover {\n",
              "      background-color: #E2EBFA;\n",
              "      box-shadow: 0px 1px 2px rgba(60, 64, 67, 0.3), 0px 1px 3px 1px rgba(60, 64, 67, 0.15);\n",
              "      fill: #174EA6;\n",
              "    }\n",
              "\n",
              "    [theme=dark] .colab-df-convert {\n",
              "      background-color: #3B4455;\n",
              "      fill: #D2E3FC;\n",
              "    }\n",
              "\n",
              "    [theme=dark] .colab-df-convert:hover {\n",
              "      background-color: #434B5C;\n",
              "      box-shadow: 0px 1px 3px 1px rgba(0, 0, 0, 0.15);\n",
              "      filter: drop-shadow(0px 1px 2px rgba(0, 0, 0, 0.3));\n",
              "      fill: #FFFFFF;\n",
              "    }\n",
              "  </style>\n",
              "\n",
              "      <script>\n",
              "        const buttonEl =\n",
              "          document.querySelector('#df-c961711b-7558-4e24-b21e-daa9be89c450 button.colab-df-convert');\n",
              "        buttonEl.style.display =\n",
              "          google.colab.kernel.accessAllowed ? 'block' : 'none';\n",
              "\n",
              "        async function convertToInteractive(key) {\n",
              "          const element = document.querySelector('#df-c961711b-7558-4e24-b21e-daa9be89c450');\n",
              "          const dataTable =\n",
              "            await google.colab.kernel.invokeFunction('convertToInteractive',\n",
              "                                                     [key], {});\n",
              "          if (!dataTable) return;\n",
              "\n",
              "          const docLinkHtml = 'Like what you see? Visit the ' +\n",
              "            '<a target=\"_blank\" href=https://colab.research.google.com/notebooks/data_table.ipynb>data table notebook</a>'\n",
              "            + ' to learn more about interactive tables.';\n",
              "          element.innerHTML = '';\n",
              "          dataTable['output_type'] = 'display_data';\n",
              "          await google.colab.output.renderOutput(dataTable, element);\n",
              "          const docLink = document.createElement('div');\n",
              "          docLink.innerHTML = docLinkHtml;\n",
              "          element.appendChild(docLink);\n",
              "        }\n",
              "      </script>\n",
              "    </div>\n",
              "  </div>\n",
              "  "
            ]
          },
          "metadata": {},
          "execution_count": 445
        }
      ]
    },
    {
      "cell_type": "code",
      "source": [
        "# making a copy of dataset\n",
        "data_train_temp = data_train.copy()\n",
        "data_train_temp"
      ],
      "metadata": {
        "colab": {
          "base_uri": "https://localhost:8080/",
          "height": 423
        },
        "id": "uYad-eNUAfkU",
        "outputId": "b9e23ee1-26dd-49e3-f00b-cf0f98111730"
      },
      "execution_count": 446,
      "outputs": [
        {
          "output_type": "execute_result",
          "data": {
            "text/plain": [
              "                                                   Text       Category\n",
              "0     worldcom ex-boss launches defence lawyers defe...       business\n",
              "1     german business confidence slides german busin...       business\n",
              "2     bbc poll indicates economic gloom citizens in ...       business\n",
              "3     lifestyle  governs mobile choice  faster  bett...           tech\n",
              "4     enron bosses in $168m payout eighteen former e...       business\n",
              "...                                                 ...            ...\n",
              "1485  double eviction from big brother model caprice...  entertainment\n",
              "1486  dj double act revamp chart show dj duo jk and ...  entertainment\n",
              "1487  weak dollar hits reuters revenues at media gro...       business\n",
              "1488  apple ipod family expands market apple has exp...           tech\n",
              "1489  santy worm makes unwelcome visit thousands of ...           tech\n",
              "\n",
              "[1490 rows x 2 columns]"
            ],
            "text/html": [
              "\n",
              "  <div id=\"df-ddf75ea5-b8e4-4e9c-b1a7-f797450a4c10\">\n",
              "    <div class=\"colab-df-container\">\n",
              "      <div>\n",
              "<style scoped>\n",
              "    .dataframe tbody tr th:only-of-type {\n",
              "        vertical-align: middle;\n",
              "    }\n",
              "\n",
              "    .dataframe tbody tr th {\n",
              "        vertical-align: top;\n",
              "    }\n",
              "\n",
              "    .dataframe thead th {\n",
              "        text-align: right;\n",
              "    }\n",
              "</style>\n",
              "<table border=\"1\" class=\"dataframe\">\n",
              "  <thead>\n",
              "    <tr style=\"text-align: right;\">\n",
              "      <th></th>\n",
              "      <th>Text</th>\n",
              "      <th>Category</th>\n",
              "    </tr>\n",
              "  </thead>\n",
              "  <tbody>\n",
              "    <tr>\n",
              "      <th>0</th>\n",
              "      <td>worldcom ex-boss launches defence lawyers defe...</td>\n",
              "      <td>business</td>\n",
              "    </tr>\n",
              "    <tr>\n",
              "      <th>1</th>\n",
              "      <td>german business confidence slides german busin...</td>\n",
              "      <td>business</td>\n",
              "    </tr>\n",
              "    <tr>\n",
              "      <th>2</th>\n",
              "      <td>bbc poll indicates economic gloom citizens in ...</td>\n",
              "      <td>business</td>\n",
              "    </tr>\n",
              "    <tr>\n",
              "      <th>3</th>\n",
              "      <td>lifestyle  governs mobile choice  faster  bett...</td>\n",
              "      <td>tech</td>\n",
              "    </tr>\n",
              "    <tr>\n",
              "      <th>4</th>\n",
              "      <td>enron bosses in $168m payout eighteen former e...</td>\n",
              "      <td>business</td>\n",
              "    </tr>\n",
              "    <tr>\n",
              "      <th>...</th>\n",
              "      <td>...</td>\n",
              "      <td>...</td>\n",
              "    </tr>\n",
              "    <tr>\n",
              "      <th>1485</th>\n",
              "      <td>double eviction from big brother model caprice...</td>\n",
              "      <td>entertainment</td>\n",
              "    </tr>\n",
              "    <tr>\n",
              "      <th>1486</th>\n",
              "      <td>dj double act revamp chart show dj duo jk and ...</td>\n",
              "      <td>entertainment</td>\n",
              "    </tr>\n",
              "    <tr>\n",
              "      <th>1487</th>\n",
              "      <td>weak dollar hits reuters revenues at media gro...</td>\n",
              "      <td>business</td>\n",
              "    </tr>\n",
              "    <tr>\n",
              "      <th>1488</th>\n",
              "      <td>apple ipod family expands market apple has exp...</td>\n",
              "      <td>tech</td>\n",
              "    </tr>\n",
              "    <tr>\n",
              "      <th>1489</th>\n",
              "      <td>santy worm makes unwelcome visit thousands of ...</td>\n",
              "      <td>tech</td>\n",
              "    </tr>\n",
              "  </tbody>\n",
              "</table>\n",
              "<p>1490 rows × 2 columns</p>\n",
              "</div>\n",
              "      <button class=\"colab-df-convert\" onclick=\"convertToInteractive('df-ddf75ea5-b8e4-4e9c-b1a7-f797450a4c10')\"\n",
              "              title=\"Convert this dataframe to an interactive table.\"\n",
              "              style=\"display:none;\">\n",
              "        \n",
              "  <svg xmlns=\"http://www.w3.org/2000/svg\" height=\"24px\"viewBox=\"0 0 24 24\"\n",
              "       width=\"24px\">\n",
              "    <path d=\"M0 0h24v24H0V0z\" fill=\"none\"/>\n",
              "    <path d=\"M18.56 5.44l.94 2.06.94-2.06 2.06-.94-2.06-.94-.94-2.06-.94 2.06-2.06.94zm-11 1L8.5 8.5l.94-2.06 2.06-.94-2.06-.94L8.5 2.5l-.94 2.06-2.06.94zm10 10l.94 2.06.94-2.06 2.06-.94-2.06-.94-.94-2.06-.94 2.06-2.06.94z\"/><path d=\"M17.41 7.96l-1.37-1.37c-.4-.4-.92-.59-1.43-.59-.52 0-1.04.2-1.43.59L10.3 9.45l-7.72 7.72c-.78.78-.78 2.05 0 2.83L4 21.41c.39.39.9.59 1.41.59.51 0 1.02-.2 1.41-.59l7.78-7.78 2.81-2.81c.8-.78.8-2.07 0-2.86zM5.41 20L4 18.59l7.72-7.72 1.47 1.35L5.41 20z\"/>\n",
              "  </svg>\n",
              "      </button>\n",
              "      \n",
              "  <style>\n",
              "    .colab-df-container {\n",
              "      display:flex;\n",
              "      flex-wrap:wrap;\n",
              "      gap: 12px;\n",
              "    }\n",
              "\n",
              "    .colab-df-convert {\n",
              "      background-color: #E8F0FE;\n",
              "      border: none;\n",
              "      border-radius: 50%;\n",
              "      cursor: pointer;\n",
              "      display: none;\n",
              "      fill: #1967D2;\n",
              "      height: 32px;\n",
              "      padding: 0 0 0 0;\n",
              "      width: 32px;\n",
              "    }\n",
              "\n",
              "    .colab-df-convert:hover {\n",
              "      background-color: #E2EBFA;\n",
              "      box-shadow: 0px 1px 2px rgba(60, 64, 67, 0.3), 0px 1px 3px 1px rgba(60, 64, 67, 0.15);\n",
              "      fill: #174EA6;\n",
              "    }\n",
              "\n",
              "    [theme=dark] .colab-df-convert {\n",
              "      background-color: #3B4455;\n",
              "      fill: #D2E3FC;\n",
              "    }\n",
              "\n",
              "    [theme=dark] .colab-df-convert:hover {\n",
              "      background-color: #434B5C;\n",
              "      box-shadow: 0px 1px 3px 1px rgba(0, 0, 0, 0.15);\n",
              "      filter: drop-shadow(0px 1px 2px rgba(0, 0, 0, 0.3));\n",
              "      fill: #FFFFFF;\n",
              "    }\n",
              "  </style>\n",
              "\n",
              "      <script>\n",
              "        const buttonEl =\n",
              "          document.querySelector('#df-ddf75ea5-b8e4-4e9c-b1a7-f797450a4c10 button.colab-df-convert');\n",
              "        buttonEl.style.display =\n",
              "          google.colab.kernel.accessAllowed ? 'block' : 'none';\n",
              "\n",
              "        async function convertToInteractive(key) {\n",
              "          const element = document.querySelector('#df-ddf75ea5-b8e4-4e9c-b1a7-f797450a4c10');\n",
              "          const dataTable =\n",
              "            await google.colab.kernel.invokeFunction('convertToInteractive',\n",
              "                                                     [key], {});\n",
              "          if (!dataTable) return;\n",
              "\n",
              "          const docLinkHtml = 'Like what you see? Visit the ' +\n",
              "            '<a target=\"_blank\" href=https://colab.research.google.com/notebooks/data_table.ipynb>data table notebook</a>'\n",
              "            + ' to learn more about interactive tables.';\n",
              "          element.innerHTML = '';\n",
              "          dataTable['output_type'] = 'display_data';\n",
              "          await google.colab.output.renderOutput(dataTable, element);\n",
              "          const docLink = document.createElement('div');\n",
              "          docLink.innerHTML = docLinkHtml;\n",
              "          element.appendChild(docLink);\n",
              "        }\n",
              "      </script>\n",
              "    </div>\n",
              "  </div>\n",
              "  "
            ]
          },
          "metadata": {},
          "execution_count": 446
        }
      ]
    },
    {
      "cell_type": "code",
      "source": [
        "# lowering the case of the dataset\n",
        "data_train['Category'] = data_train['Category'].str.lower()\n",
        "data_train['Text'] = data_train['Text'].str.lower()\n",
        "data_train.head()"
      ],
      "metadata": {
        "colab": {
          "base_uri": "https://localhost:8080/",
          "height": 206
        },
        "id": "D1ZSE5LUnYAJ",
        "outputId": "f8a5f922-9a07-4b82-a843-fce7683b0489"
      },
      "execution_count": 447,
      "outputs": [
        {
          "output_type": "execute_result",
          "data": {
            "text/plain": [
              "                                                Text  Category\n",
              "0  worldcom ex-boss launches defence lawyers defe...  business\n",
              "1  german business confidence slides german busin...  business\n",
              "2  bbc poll indicates economic gloom citizens in ...  business\n",
              "3  lifestyle  governs mobile choice  faster  bett...      tech\n",
              "4  enron bosses in $168m payout eighteen former e...  business"
            ],
            "text/html": [
              "\n",
              "  <div id=\"df-c59fff8e-4f40-4df2-a89c-765b10fccbd5\">\n",
              "    <div class=\"colab-df-container\">\n",
              "      <div>\n",
              "<style scoped>\n",
              "    .dataframe tbody tr th:only-of-type {\n",
              "        vertical-align: middle;\n",
              "    }\n",
              "\n",
              "    .dataframe tbody tr th {\n",
              "        vertical-align: top;\n",
              "    }\n",
              "\n",
              "    .dataframe thead th {\n",
              "        text-align: right;\n",
              "    }\n",
              "</style>\n",
              "<table border=\"1\" class=\"dataframe\">\n",
              "  <thead>\n",
              "    <tr style=\"text-align: right;\">\n",
              "      <th></th>\n",
              "      <th>Text</th>\n",
              "      <th>Category</th>\n",
              "    </tr>\n",
              "  </thead>\n",
              "  <tbody>\n",
              "    <tr>\n",
              "      <th>0</th>\n",
              "      <td>worldcom ex-boss launches defence lawyers defe...</td>\n",
              "      <td>business</td>\n",
              "    </tr>\n",
              "    <tr>\n",
              "      <th>1</th>\n",
              "      <td>german business confidence slides german busin...</td>\n",
              "      <td>business</td>\n",
              "    </tr>\n",
              "    <tr>\n",
              "      <th>2</th>\n",
              "      <td>bbc poll indicates economic gloom citizens in ...</td>\n",
              "      <td>business</td>\n",
              "    </tr>\n",
              "    <tr>\n",
              "      <th>3</th>\n",
              "      <td>lifestyle  governs mobile choice  faster  bett...</td>\n",
              "      <td>tech</td>\n",
              "    </tr>\n",
              "    <tr>\n",
              "      <th>4</th>\n",
              "      <td>enron bosses in $168m payout eighteen former e...</td>\n",
              "      <td>business</td>\n",
              "    </tr>\n",
              "  </tbody>\n",
              "</table>\n",
              "</div>\n",
              "      <button class=\"colab-df-convert\" onclick=\"convertToInteractive('df-c59fff8e-4f40-4df2-a89c-765b10fccbd5')\"\n",
              "              title=\"Convert this dataframe to an interactive table.\"\n",
              "              style=\"display:none;\">\n",
              "        \n",
              "  <svg xmlns=\"http://www.w3.org/2000/svg\" height=\"24px\"viewBox=\"0 0 24 24\"\n",
              "       width=\"24px\">\n",
              "    <path d=\"M0 0h24v24H0V0z\" fill=\"none\"/>\n",
              "    <path d=\"M18.56 5.44l.94 2.06.94-2.06 2.06-.94-2.06-.94-.94-2.06-.94 2.06-2.06.94zm-11 1L8.5 8.5l.94-2.06 2.06-.94-2.06-.94L8.5 2.5l-.94 2.06-2.06.94zm10 10l.94 2.06.94-2.06 2.06-.94-2.06-.94-.94-2.06-.94 2.06-2.06.94z\"/><path d=\"M17.41 7.96l-1.37-1.37c-.4-.4-.92-.59-1.43-.59-.52 0-1.04.2-1.43.59L10.3 9.45l-7.72 7.72c-.78.78-.78 2.05 0 2.83L4 21.41c.39.39.9.59 1.41.59.51 0 1.02-.2 1.41-.59l7.78-7.78 2.81-2.81c.8-.78.8-2.07 0-2.86zM5.41 20L4 18.59l7.72-7.72 1.47 1.35L5.41 20z\"/>\n",
              "  </svg>\n",
              "      </button>\n",
              "      \n",
              "  <style>\n",
              "    .colab-df-container {\n",
              "      display:flex;\n",
              "      flex-wrap:wrap;\n",
              "      gap: 12px;\n",
              "    }\n",
              "\n",
              "    .colab-df-convert {\n",
              "      background-color: #E8F0FE;\n",
              "      border: none;\n",
              "      border-radius: 50%;\n",
              "      cursor: pointer;\n",
              "      display: none;\n",
              "      fill: #1967D2;\n",
              "      height: 32px;\n",
              "      padding: 0 0 0 0;\n",
              "      width: 32px;\n",
              "    }\n",
              "\n",
              "    .colab-df-convert:hover {\n",
              "      background-color: #E2EBFA;\n",
              "      box-shadow: 0px 1px 2px rgba(60, 64, 67, 0.3), 0px 1px 3px 1px rgba(60, 64, 67, 0.15);\n",
              "      fill: #174EA6;\n",
              "    }\n",
              "\n",
              "    [theme=dark] .colab-df-convert {\n",
              "      background-color: #3B4455;\n",
              "      fill: #D2E3FC;\n",
              "    }\n",
              "\n",
              "    [theme=dark] .colab-df-convert:hover {\n",
              "      background-color: #434B5C;\n",
              "      box-shadow: 0px 1px 3px 1px rgba(0, 0, 0, 0.15);\n",
              "      filter: drop-shadow(0px 1px 2px rgba(0, 0, 0, 0.3));\n",
              "      fill: #FFFFFF;\n",
              "    }\n",
              "  </style>\n",
              "\n",
              "      <script>\n",
              "        const buttonEl =\n",
              "          document.querySelector('#df-c59fff8e-4f40-4df2-a89c-765b10fccbd5 button.colab-df-convert');\n",
              "        buttonEl.style.display =\n",
              "          google.colab.kernel.accessAllowed ? 'block' : 'none';\n",
              "\n",
              "        async function convertToInteractive(key) {\n",
              "          const element = document.querySelector('#df-c59fff8e-4f40-4df2-a89c-765b10fccbd5');\n",
              "          const dataTable =\n",
              "            await google.colab.kernel.invokeFunction('convertToInteractive',\n",
              "                                                     [key], {});\n",
              "          if (!dataTable) return;\n",
              "\n",
              "          const docLinkHtml = 'Like what you see? Visit the ' +\n",
              "            '<a target=\"_blank\" href=https://colab.research.google.com/notebooks/data_table.ipynb>data table notebook</a>'\n",
              "            + ' to learn more about interactive tables.';\n",
              "          element.innerHTML = '';\n",
              "          dataTable['output_type'] = 'display_data';\n",
              "          await google.colab.output.renderOutput(dataTable, element);\n",
              "          const docLink = document.createElement('div');\n",
              "          docLink.innerHTML = docLinkHtml;\n",
              "          element.appendChild(docLink);\n",
              "        }\n",
              "      </script>\n",
              "    </div>\n",
              "  </div>\n",
              "  "
            ]
          },
          "metadata": {},
          "execution_count": 447
        }
      ]
    },
    {
      "cell_type": "code",
      "source": [
        "#function to remove punctuation\n",
        "def removePunctuation(data):\n",
        "  token = RegexpTokenizer(r\"\\w+\")\n",
        "  return token.tokenize(''.join(data))"
      ],
      "metadata": {
        "id": "tEoKZzRspwMK"
      },
      "execution_count": 448,
      "outputs": []
    },
    {
      "cell_type": "code",
      "source": [
        "data_train['Text'] = data_train['Text'].apply(removePunctuation)\n",
        "data_train.head()"
      ],
      "metadata": {
        "colab": {
          "base_uri": "https://localhost:8080/",
          "height": 206
        },
        "id": "fM0so2-ip7KY",
        "outputId": "a20f42db-aa61-4cd8-97c5-58d6d1459a37"
      },
      "execution_count": 449,
      "outputs": [
        {
          "output_type": "execute_result",
          "data": {
            "text/plain": [
              "                                                Text  Category\n",
              "0  [worldcom, ex, boss, launches, defence, lawyer...  business\n",
              "1  [german, business, confidence, slides, german,...  business\n",
              "2  [bbc, poll, indicates, economic, gloom, citize...  business\n",
              "3  [lifestyle, governs, mobile, choice, faster, b...      tech\n",
              "4  [enron, bosses, in, 168m, payout, eighteen, fo...  business"
            ],
            "text/html": [
              "\n",
              "  <div id=\"df-5bb85cc6-e66e-4bf9-874c-6cbe86555e3b\">\n",
              "    <div class=\"colab-df-container\">\n",
              "      <div>\n",
              "<style scoped>\n",
              "    .dataframe tbody tr th:only-of-type {\n",
              "        vertical-align: middle;\n",
              "    }\n",
              "\n",
              "    .dataframe tbody tr th {\n",
              "        vertical-align: top;\n",
              "    }\n",
              "\n",
              "    .dataframe thead th {\n",
              "        text-align: right;\n",
              "    }\n",
              "</style>\n",
              "<table border=\"1\" class=\"dataframe\">\n",
              "  <thead>\n",
              "    <tr style=\"text-align: right;\">\n",
              "      <th></th>\n",
              "      <th>Text</th>\n",
              "      <th>Category</th>\n",
              "    </tr>\n",
              "  </thead>\n",
              "  <tbody>\n",
              "    <tr>\n",
              "      <th>0</th>\n",
              "      <td>[worldcom, ex, boss, launches, defence, lawyer...</td>\n",
              "      <td>business</td>\n",
              "    </tr>\n",
              "    <tr>\n",
              "      <th>1</th>\n",
              "      <td>[german, business, confidence, slides, german,...</td>\n",
              "      <td>business</td>\n",
              "    </tr>\n",
              "    <tr>\n",
              "      <th>2</th>\n",
              "      <td>[bbc, poll, indicates, economic, gloom, citize...</td>\n",
              "      <td>business</td>\n",
              "    </tr>\n",
              "    <tr>\n",
              "      <th>3</th>\n",
              "      <td>[lifestyle, governs, mobile, choice, faster, b...</td>\n",
              "      <td>tech</td>\n",
              "    </tr>\n",
              "    <tr>\n",
              "      <th>4</th>\n",
              "      <td>[enron, bosses, in, 168m, payout, eighteen, fo...</td>\n",
              "      <td>business</td>\n",
              "    </tr>\n",
              "  </tbody>\n",
              "</table>\n",
              "</div>\n",
              "      <button class=\"colab-df-convert\" onclick=\"convertToInteractive('df-5bb85cc6-e66e-4bf9-874c-6cbe86555e3b')\"\n",
              "              title=\"Convert this dataframe to an interactive table.\"\n",
              "              style=\"display:none;\">\n",
              "        \n",
              "  <svg xmlns=\"http://www.w3.org/2000/svg\" height=\"24px\"viewBox=\"0 0 24 24\"\n",
              "       width=\"24px\">\n",
              "    <path d=\"M0 0h24v24H0V0z\" fill=\"none\"/>\n",
              "    <path d=\"M18.56 5.44l.94 2.06.94-2.06 2.06-.94-2.06-.94-.94-2.06-.94 2.06-2.06.94zm-11 1L8.5 8.5l.94-2.06 2.06-.94-2.06-.94L8.5 2.5l-.94 2.06-2.06.94zm10 10l.94 2.06.94-2.06 2.06-.94-2.06-.94-.94-2.06-.94 2.06-2.06.94z\"/><path d=\"M17.41 7.96l-1.37-1.37c-.4-.4-.92-.59-1.43-.59-.52 0-1.04.2-1.43.59L10.3 9.45l-7.72 7.72c-.78.78-.78 2.05 0 2.83L4 21.41c.39.39.9.59 1.41.59.51 0 1.02-.2 1.41-.59l7.78-7.78 2.81-2.81c.8-.78.8-2.07 0-2.86zM5.41 20L4 18.59l7.72-7.72 1.47 1.35L5.41 20z\"/>\n",
              "  </svg>\n",
              "      </button>\n",
              "      \n",
              "  <style>\n",
              "    .colab-df-container {\n",
              "      display:flex;\n",
              "      flex-wrap:wrap;\n",
              "      gap: 12px;\n",
              "    }\n",
              "\n",
              "    .colab-df-convert {\n",
              "      background-color: #E8F0FE;\n",
              "      border: none;\n",
              "      border-radius: 50%;\n",
              "      cursor: pointer;\n",
              "      display: none;\n",
              "      fill: #1967D2;\n",
              "      height: 32px;\n",
              "      padding: 0 0 0 0;\n",
              "      width: 32px;\n",
              "    }\n",
              "\n",
              "    .colab-df-convert:hover {\n",
              "      background-color: #E2EBFA;\n",
              "      box-shadow: 0px 1px 2px rgba(60, 64, 67, 0.3), 0px 1px 3px 1px rgba(60, 64, 67, 0.15);\n",
              "      fill: #174EA6;\n",
              "    }\n",
              "\n",
              "    [theme=dark] .colab-df-convert {\n",
              "      background-color: #3B4455;\n",
              "      fill: #D2E3FC;\n",
              "    }\n",
              "\n",
              "    [theme=dark] .colab-df-convert:hover {\n",
              "      background-color: #434B5C;\n",
              "      box-shadow: 0px 1px 3px 1px rgba(0, 0, 0, 0.15);\n",
              "      filter: drop-shadow(0px 1px 2px rgba(0, 0, 0, 0.3));\n",
              "      fill: #FFFFFF;\n",
              "    }\n",
              "  </style>\n",
              "\n",
              "      <script>\n",
              "        const buttonEl =\n",
              "          document.querySelector('#df-5bb85cc6-e66e-4bf9-874c-6cbe86555e3b button.colab-df-convert');\n",
              "        buttonEl.style.display =\n",
              "          google.colab.kernel.accessAllowed ? 'block' : 'none';\n",
              "\n",
              "        async function convertToInteractive(key) {\n",
              "          const element = document.querySelector('#df-5bb85cc6-e66e-4bf9-874c-6cbe86555e3b');\n",
              "          const dataTable =\n",
              "            await google.colab.kernel.invokeFunction('convertToInteractive',\n",
              "                                                     [key], {});\n",
              "          if (!dataTable) return;\n",
              "\n",
              "          const docLinkHtml = 'Like what you see? Visit the ' +\n",
              "            '<a target=\"_blank\" href=https://colab.research.google.com/notebooks/data_table.ipynb>data table notebook</a>'\n",
              "            + ' to learn more about interactive tables.';\n",
              "          element.innerHTML = '';\n",
              "          dataTable['output_type'] = 'display_data';\n",
              "          await google.colab.output.renderOutput(dataTable, element);\n",
              "          const docLink = document.createElement('div');\n",
              "          docLink.innerHTML = docLinkHtml;\n",
              "          element.appendChild(docLink);\n",
              "        }\n",
              "      </script>\n",
              "    </div>\n",
              "  </div>\n",
              "  "
            ]
          },
          "metadata": {},
          "execution_count": 449
        }
      ]
    },
    {
      "cell_type": "code",
      "source": [
        "# function to remove stop words\n",
        "stopwords = stopwords.words('english')\n",
        "\n",
        "def removeWords(data):\n",
        "  \n",
        "  output = []\n",
        "  for word in data:\n",
        "    if word not in stopwords:\n",
        "      output.append(word)\n",
        "  return output"
      ],
      "metadata": {
        "id": "m2gCAqWBoQhx"
      },
      "execution_count": 450,
      "outputs": []
    },
    {
      "cell_type": "code",
      "source": [
        "data_train['Text'] = data_train['Text'].apply(removeWords)\n",
        "data_train.head()"
      ],
      "metadata": {
        "colab": {
          "base_uri": "https://localhost:8080/",
          "height": 206
        },
        "id": "5mSclaxgokUo",
        "outputId": "9758a48d-e7b2-4c73-bdd8-c841b933983a"
      },
      "execution_count": 451,
      "outputs": [
        {
          "output_type": "execute_result",
          "data": {
            "text/plain": [
              "                                                Text  Category\n",
              "0  [worldcom, ex, boss, launches, defence, lawyer...  business\n",
              "1  [german, business, confidence, slides, german,...  business\n",
              "2  [bbc, poll, indicates, economic, gloom, citize...  business\n",
              "3  [lifestyle, governs, mobile, choice, faster, b...      tech\n",
              "4  [enron, bosses, 168m, payout, eighteen, former...  business"
            ],
            "text/html": [
              "\n",
              "  <div id=\"df-de851d32-cc93-4dfc-a9c2-1b736283483c\">\n",
              "    <div class=\"colab-df-container\">\n",
              "      <div>\n",
              "<style scoped>\n",
              "    .dataframe tbody tr th:only-of-type {\n",
              "        vertical-align: middle;\n",
              "    }\n",
              "\n",
              "    .dataframe tbody tr th {\n",
              "        vertical-align: top;\n",
              "    }\n",
              "\n",
              "    .dataframe thead th {\n",
              "        text-align: right;\n",
              "    }\n",
              "</style>\n",
              "<table border=\"1\" class=\"dataframe\">\n",
              "  <thead>\n",
              "    <tr style=\"text-align: right;\">\n",
              "      <th></th>\n",
              "      <th>Text</th>\n",
              "      <th>Category</th>\n",
              "    </tr>\n",
              "  </thead>\n",
              "  <tbody>\n",
              "    <tr>\n",
              "      <th>0</th>\n",
              "      <td>[worldcom, ex, boss, launches, defence, lawyer...</td>\n",
              "      <td>business</td>\n",
              "    </tr>\n",
              "    <tr>\n",
              "      <th>1</th>\n",
              "      <td>[german, business, confidence, slides, german,...</td>\n",
              "      <td>business</td>\n",
              "    </tr>\n",
              "    <tr>\n",
              "      <th>2</th>\n",
              "      <td>[bbc, poll, indicates, economic, gloom, citize...</td>\n",
              "      <td>business</td>\n",
              "    </tr>\n",
              "    <tr>\n",
              "      <th>3</th>\n",
              "      <td>[lifestyle, governs, mobile, choice, faster, b...</td>\n",
              "      <td>tech</td>\n",
              "    </tr>\n",
              "    <tr>\n",
              "      <th>4</th>\n",
              "      <td>[enron, bosses, 168m, payout, eighteen, former...</td>\n",
              "      <td>business</td>\n",
              "    </tr>\n",
              "  </tbody>\n",
              "</table>\n",
              "</div>\n",
              "      <button class=\"colab-df-convert\" onclick=\"convertToInteractive('df-de851d32-cc93-4dfc-a9c2-1b736283483c')\"\n",
              "              title=\"Convert this dataframe to an interactive table.\"\n",
              "              style=\"display:none;\">\n",
              "        \n",
              "  <svg xmlns=\"http://www.w3.org/2000/svg\" height=\"24px\"viewBox=\"0 0 24 24\"\n",
              "       width=\"24px\">\n",
              "    <path d=\"M0 0h24v24H0V0z\" fill=\"none\"/>\n",
              "    <path d=\"M18.56 5.44l.94 2.06.94-2.06 2.06-.94-2.06-.94-.94-2.06-.94 2.06-2.06.94zm-11 1L8.5 8.5l.94-2.06 2.06-.94-2.06-.94L8.5 2.5l-.94 2.06-2.06.94zm10 10l.94 2.06.94-2.06 2.06-.94-2.06-.94-.94-2.06-.94 2.06-2.06.94z\"/><path d=\"M17.41 7.96l-1.37-1.37c-.4-.4-.92-.59-1.43-.59-.52 0-1.04.2-1.43.59L10.3 9.45l-7.72 7.72c-.78.78-.78 2.05 0 2.83L4 21.41c.39.39.9.59 1.41.59.51 0 1.02-.2 1.41-.59l7.78-7.78 2.81-2.81c.8-.78.8-2.07 0-2.86zM5.41 20L4 18.59l7.72-7.72 1.47 1.35L5.41 20z\"/>\n",
              "  </svg>\n",
              "      </button>\n",
              "      \n",
              "  <style>\n",
              "    .colab-df-container {\n",
              "      display:flex;\n",
              "      flex-wrap:wrap;\n",
              "      gap: 12px;\n",
              "    }\n",
              "\n",
              "    .colab-df-convert {\n",
              "      background-color: #E8F0FE;\n",
              "      border: none;\n",
              "      border-radius: 50%;\n",
              "      cursor: pointer;\n",
              "      display: none;\n",
              "      fill: #1967D2;\n",
              "      height: 32px;\n",
              "      padding: 0 0 0 0;\n",
              "      width: 32px;\n",
              "    }\n",
              "\n",
              "    .colab-df-convert:hover {\n",
              "      background-color: #E2EBFA;\n",
              "      box-shadow: 0px 1px 2px rgba(60, 64, 67, 0.3), 0px 1px 3px 1px rgba(60, 64, 67, 0.15);\n",
              "      fill: #174EA6;\n",
              "    }\n",
              "\n",
              "    [theme=dark] .colab-df-convert {\n",
              "      background-color: #3B4455;\n",
              "      fill: #D2E3FC;\n",
              "    }\n",
              "\n",
              "    [theme=dark] .colab-df-convert:hover {\n",
              "      background-color: #434B5C;\n",
              "      box-shadow: 0px 1px 3px 1px rgba(0, 0, 0, 0.15);\n",
              "      filter: drop-shadow(0px 1px 2px rgba(0, 0, 0, 0.3));\n",
              "      fill: #FFFFFF;\n",
              "    }\n",
              "  </style>\n",
              "\n",
              "      <script>\n",
              "        const buttonEl =\n",
              "          document.querySelector('#df-de851d32-cc93-4dfc-a9c2-1b736283483c button.colab-df-convert');\n",
              "        buttonEl.style.display =\n",
              "          google.colab.kernel.accessAllowed ? 'block' : 'none';\n",
              "\n",
              "        async function convertToInteractive(key) {\n",
              "          const element = document.querySelector('#df-de851d32-cc93-4dfc-a9c2-1b736283483c');\n",
              "          const dataTable =\n",
              "            await google.colab.kernel.invokeFunction('convertToInteractive',\n",
              "                                                     [key], {});\n",
              "          if (!dataTable) return;\n",
              "\n",
              "          const docLinkHtml = 'Like what you see? Visit the ' +\n",
              "            '<a target=\"_blank\" href=https://colab.research.google.com/notebooks/data_table.ipynb>data table notebook</a>'\n",
              "            + ' to learn more about interactive tables.';\n",
              "          element.innerHTML = '';\n",
              "          dataTable['output_type'] = 'display_data';\n",
              "          await google.colab.output.renderOutput(dataTable, element);\n",
              "          const docLink = document.createElement('div');\n",
              "          docLink.innerHTML = docLinkHtml;\n",
              "          element.appendChild(docLink);\n",
              "        }\n",
              "      </script>\n",
              "    </div>\n",
              "  </div>\n",
              "  "
            ]
          },
          "metadata": {},
          "execution_count": 451
        }
      ]
    },
    {
      "cell_type": "code",
      "source": [
        "#function to lemmatize the data\n",
        "def lemmatize(data):\n",
        "  output = []\n",
        "  lst = ['a','r','n','v']\n",
        "  wordNetLemmatizer = WordNetLemmatizer()\n",
        "  posTag = pos_tag(data)\n",
        "  for word, tag in posTag:\n",
        "    pos = tag[0].lower()\n",
        "\n",
        "    if pos not in lst:\n",
        "      pos = 'n'\n",
        "    output.append(wordNetLemmatizer.lemmatize(word,pos))\n",
        "  return output"
      ],
      "metadata": {
        "id": "Bu8WTnAL698D"
      },
      "execution_count": 452,
      "outputs": []
    },
    {
      "cell_type": "code",
      "source": [
        "data_train['Text'] = data_train['Text'].apply(lemmatize)\n",
        "data_train.head()"
      ],
      "metadata": {
        "colab": {
          "base_uri": "https://localhost:8080/",
          "height": 206
        },
        "id": "L3Mt6mmO6PaI",
        "outputId": "4506bffa-e4ef-4e94-ecdd-88576bf7da1f"
      },
      "execution_count": 453,
      "outputs": [
        {
          "output_type": "execute_result",
          "data": {
            "text/plain": [
              "                                                Text  Category\n",
              "0  [worldcom, ex, bos, launch, defence, lawyer, d...  business\n",
              "1  [german, business, confidence, slide, german, ...  business\n",
              "2  [bbc, poll, indicate, economic, gloom, citizen...  business\n",
              "3  [lifestyle, governs, mobile, choice, faster, w...      tech\n",
              "4  [enron, boss, 168m, payout, eighteen, former, ...  business"
            ],
            "text/html": [
              "\n",
              "  <div id=\"df-1b1bf191-a33e-441b-af83-47a1903f0e2e\">\n",
              "    <div class=\"colab-df-container\">\n",
              "      <div>\n",
              "<style scoped>\n",
              "    .dataframe tbody tr th:only-of-type {\n",
              "        vertical-align: middle;\n",
              "    }\n",
              "\n",
              "    .dataframe tbody tr th {\n",
              "        vertical-align: top;\n",
              "    }\n",
              "\n",
              "    .dataframe thead th {\n",
              "        text-align: right;\n",
              "    }\n",
              "</style>\n",
              "<table border=\"1\" class=\"dataframe\">\n",
              "  <thead>\n",
              "    <tr style=\"text-align: right;\">\n",
              "      <th></th>\n",
              "      <th>Text</th>\n",
              "      <th>Category</th>\n",
              "    </tr>\n",
              "  </thead>\n",
              "  <tbody>\n",
              "    <tr>\n",
              "      <th>0</th>\n",
              "      <td>[worldcom, ex, bos, launch, defence, lawyer, d...</td>\n",
              "      <td>business</td>\n",
              "    </tr>\n",
              "    <tr>\n",
              "      <th>1</th>\n",
              "      <td>[german, business, confidence, slide, german, ...</td>\n",
              "      <td>business</td>\n",
              "    </tr>\n",
              "    <tr>\n",
              "      <th>2</th>\n",
              "      <td>[bbc, poll, indicate, economic, gloom, citizen...</td>\n",
              "      <td>business</td>\n",
              "    </tr>\n",
              "    <tr>\n",
              "      <th>3</th>\n",
              "      <td>[lifestyle, governs, mobile, choice, faster, w...</td>\n",
              "      <td>tech</td>\n",
              "    </tr>\n",
              "    <tr>\n",
              "      <th>4</th>\n",
              "      <td>[enron, boss, 168m, payout, eighteen, former, ...</td>\n",
              "      <td>business</td>\n",
              "    </tr>\n",
              "  </tbody>\n",
              "</table>\n",
              "</div>\n",
              "      <button class=\"colab-df-convert\" onclick=\"convertToInteractive('df-1b1bf191-a33e-441b-af83-47a1903f0e2e')\"\n",
              "              title=\"Convert this dataframe to an interactive table.\"\n",
              "              style=\"display:none;\">\n",
              "        \n",
              "  <svg xmlns=\"http://www.w3.org/2000/svg\" height=\"24px\"viewBox=\"0 0 24 24\"\n",
              "       width=\"24px\">\n",
              "    <path d=\"M0 0h24v24H0V0z\" fill=\"none\"/>\n",
              "    <path d=\"M18.56 5.44l.94 2.06.94-2.06 2.06-.94-2.06-.94-.94-2.06-.94 2.06-2.06.94zm-11 1L8.5 8.5l.94-2.06 2.06-.94-2.06-.94L8.5 2.5l-.94 2.06-2.06.94zm10 10l.94 2.06.94-2.06 2.06-.94-2.06-.94-.94-2.06-.94 2.06-2.06.94z\"/><path d=\"M17.41 7.96l-1.37-1.37c-.4-.4-.92-.59-1.43-.59-.52 0-1.04.2-1.43.59L10.3 9.45l-7.72 7.72c-.78.78-.78 2.05 0 2.83L4 21.41c.39.39.9.59 1.41.59.51 0 1.02-.2 1.41-.59l7.78-7.78 2.81-2.81c.8-.78.8-2.07 0-2.86zM5.41 20L4 18.59l7.72-7.72 1.47 1.35L5.41 20z\"/>\n",
              "  </svg>\n",
              "      </button>\n",
              "      \n",
              "  <style>\n",
              "    .colab-df-container {\n",
              "      display:flex;\n",
              "      flex-wrap:wrap;\n",
              "      gap: 12px;\n",
              "    }\n",
              "\n",
              "    .colab-df-convert {\n",
              "      background-color: #E8F0FE;\n",
              "      border: none;\n",
              "      border-radius: 50%;\n",
              "      cursor: pointer;\n",
              "      display: none;\n",
              "      fill: #1967D2;\n",
              "      height: 32px;\n",
              "      padding: 0 0 0 0;\n",
              "      width: 32px;\n",
              "    }\n",
              "\n",
              "    .colab-df-convert:hover {\n",
              "      background-color: #E2EBFA;\n",
              "      box-shadow: 0px 1px 2px rgba(60, 64, 67, 0.3), 0px 1px 3px 1px rgba(60, 64, 67, 0.15);\n",
              "      fill: #174EA6;\n",
              "    }\n",
              "\n",
              "    [theme=dark] .colab-df-convert {\n",
              "      background-color: #3B4455;\n",
              "      fill: #D2E3FC;\n",
              "    }\n",
              "\n",
              "    [theme=dark] .colab-df-convert:hover {\n",
              "      background-color: #434B5C;\n",
              "      box-shadow: 0px 1px 3px 1px rgba(0, 0, 0, 0.15);\n",
              "      filter: drop-shadow(0px 1px 2px rgba(0, 0, 0, 0.3));\n",
              "      fill: #FFFFFF;\n",
              "    }\n",
              "  </style>\n",
              "\n",
              "      <script>\n",
              "        const buttonEl =\n",
              "          document.querySelector('#df-1b1bf191-a33e-441b-af83-47a1903f0e2e button.colab-df-convert');\n",
              "        buttonEl.style.display =\n",
              "          google.colab.kernel.accessAllowed ? 'block' : 'none';\n",
              "\n",
              "        async function convertToInteractive(key) {\n",
              "          const element = document.querySelector('#df-1b1bf191-a33e-441b-af83-47a1903f0e2e');\n",
              "          const dataTable =\n",
              "            await google.colab.kernel.invokeFunction('convertToInteractive',\n",
              "                                                     [key], {});\n",
              "          if (!dataTable) return;\n",
              "\n",
              "          const docLinkHtml = 'Like what you see? Visit the ' +\n",
              "            '<a target=\"_blank\" href=https://colab.research.google.com/notebooks/data_table.ipynb>data table notebook</a>'\n",
              "            + ' to learn more about interactive tables.';\n",
              "          element.innerHTML = '';\n",
              "          dataTable['output_type'] = 'display_data';\n",
              "          await google.colab.output.renderOutput(dataTable, element);\n",
              "          const docLink = document.createElement('div');\n",
              "          docLink.innerHTML = docLinkHtml;\n",
              "          element.appendChild(docLink);\n",
              "        }\n",
              "      </script>\n",
              "    </div>\n",
              "  </div>\n",
              "  "
            ]
          },
          "metadata": {},
          "execution_count": 453
        }
      ]
    },
    {
      "cell_type": "code",
      "source": [
        "# function for applying stemming to the data\n",
        "def stemming(data):\n",
        "  output = []\n",
        "  stem = PorterStemmer()\n",
        "  for word in data:\n",
        "    output.append(stem.stem(word))\n",
        "  return output"
      ],
      "metadata": {
        "id": "Fey1HS223_lk"
      },
      "execution_count": 454,
      "outputs": []
    },
    {
      "cell_type": "code",
      "source": [
        "categories = data_train['Category'].unique() #finding classes\n",
        "\n",
        "term_freq = {}\n",
        "class_freq = {}\n",
        "num_class = len(categories)"
      ],
      "metadata": {
        "id": "cRcbNR1Dq52T"
      },
      "execution_count": 455,
      "outputs": []
    },
    {
      "cell_type": "code",
      "source": [
        "# function to find the sentences based on the category they belong to\n",
        "def get_cat(categories, data):\n",
        "  \n",
        "  cat_business = data[data['Category'] == 'business']\n",
        "    \n",
        "  cat_tech = data[data['Category'] == 'tech']\n",
        "    \n",
        "  cat_politics = data[data['Category'] == 'politics']\n",
        "\n",
        "  cat_sport = data[data['Category'] == 'sport']\n",
        "    \n",
        "  cat_entertain = data[data['Category'] == 'entertainment']\n",
        "    \n",
        "  \n",
        "  return cat_business, cat_tech, cat_politics, cat_sport, cat_entertain\n",
        "      "
      ],
      "metadata": {
        "id": "uLmcnVUfGhSS"
      },
      "execution_count": 456,
      "outputs": []
    },
    {
      "cell_type": "code",
      "source": [
        "cat_business, cat_tech, cat_politics, cat_sport, cat_entertain = get_cat(categories,data_train)\n"
      ],
      "metadata": {
        "id": "vV_MshnZejrq"
      },
      "execution_count": 457,
      "outputs": []
    },
    {
      "cell_type": "code",
      "source": [
        "#function to calculate term frequency\n",
        "def cal_tf(term_freq_data,data,cat_type):\n",
        "  for text in data['Text']:\n",
        "    for word in text:\n",
        "      if word not in term_freq_data:\n",
        "        term_freq_data[word]={}\n",
        "      if cat_type not in term_freq_data[word]:\n",
        "        term_freq_data[word][cat_type] = 0\n",
        "      term_freq_data[word][cat_type]+=1\n",
        "  return  term_freq_data  \n",
        "\n"
      ],
      "metadata": {
        "id": "lUKckMn83kxs"
      },
      "execution_count": 458,
      "outputs": []
    },
    {
      "cell_type": "code",
      "source": [
        "# wrapper function to calculate term frequency \n",
        "def calc_term_freq(term_freq,cat_business,cat_tech,cat_politics,cat_sport,cat_entertain):\n",
        "  term_freq = cal_tf(term_freq, cat_business, \"business\")\n",
        "  term_freq = cal_tf(term_freq, cat_tech, \"tech\")\n",
        "  term_freq = cal_tf(term_freq, cat_politics, \"politics\")\n",
        "  term_freq = cal_tf(term_freq, cat_sport, \"sport\")\n",
        "  term_freq = cal_tf(term_freq, cat_entertain, \"entertainment\")\n",
        "  return term_freq"
      ],
      "metadata": {
        "id": "tACR3mszHqzd"
      },
      "execution_count": 459,
      "outputs": []
    },
    {
      "cell_type": "code",
      "source": [
        "\n",
        "term_freq = calc_term_freq(term_freq,cat_business,cat_tech,cat_politics,cat_sport,cat_entertain)\n",
        "# print(term_freq)"
      ],
      "metadata": {
        "id": "NFCbSkxWF6HM"
      },
      "execution_count": 460,
      "outputs": []
    },
    {
      "cell_type": "code",
      "source": [
        "#function to calculate class frequency\n",
        "def cal_cf(term_freq,class_freq,data,cat_type):\n",
        "  \n",
        "  words = term_freq.keys()\n",
        "  for word in words:\n",
        "      if word not in class_freq:\n",
        "        class_freq[word]=0\n",
        "      if cat_type in term_freq[word]:\n",
        "        class_freq[word]+=1\n",
        "  return  class_freq  \n",
        "\n"
      ],
      "metadata": {
        "id": "_3Lu79xPHsuv"
      },
      "execution_count": 461,
      "outputs": []
    },
    {
      "cell_type": "code",
      "source": [
        "# wrapper function to calculate class frequency\n",
        "def calc_class_freq(term_freq,class_freq,cat_business,cat_tech,cat_politics,cat_sport,cat_entertain):\n",
        "  class_freq = cal_cf(term_freq, class_freq, cat_business, \"business\")\n",
        "  class_freq = cal_cf(term_freq, class_freq, cat_tech, \"tech\")\n",
        "  class_freq = cal_cf(term_freq, class_freq, cat_politics, \"politics\")\n",
        "  class_freq = cal_cf(term_freq, class_freq, cat_sport, \"sport\")\n",
        "  class_freq = cal_cf(term_freq, class_freq, cat_entertain, \"entertainment\")\n",
        "  return class_freq\n"
      ],
      "metadata": {
        "id": "o0vlwsn8vQ6D"
      },
      "execution_count": 462,
      "outputs": []
    },
    {
      "cell_type": "code",
      "source": [
        "class_freq = calc_class_freq(term_freq,class_freq,cat_business,cat_tech,cat_politics,cat_sport,cat_entertain)\n",
        "# print(class_freq)"
      ],
      "metadata": {
        "id": "Rt9G_d1VqGPc"
      },
      "execution_count": 463,
      "outputs": []
    },
    {
      "cell_type": "code",
      "source": [
        "#function to calculate tf-icf score\n",
        "def tf_icf(term_freq,class_freq):\n",
        "  tf_icf_dict = {}\n",
        "  for word in term_freq.keys():\n",
        "      tf_icf_dict[word] = {}\n",
        "      for category in categories:\n",
        "          tf = term_freq[word].get(category, 0)\n",
        "          \n",
        "          cf = class_freq[word]\n",
        "          icf = np.log10(num_class / cf)\n",
        "        \n",
        "          tf_icf_dict[word][category] = tf * icf\n",
        "  return tf_icf_dict"
      ],
      "metadata": {
        "id": "5js7c0pWx_fD"
      },
      "execution_count": 464,
      "outputs": []
    },
    {
      "cell_type": "code",
      "source": [
        "\n",
        "tf_icf_dict = tf_icf(term_freq,class_freq)"
      ],
      "metadata": {
        "id": "pc-0mrH8Fon2"
      },
      "execution_count": 465,
      "outputs": []
    },
    {
      "cell_type": "code",
      "source": [
        "df = pd.DataFrame(tf_icf_dict) # converting dictionary of tf-icf into dataframe\n"
      ],
      "metadata": {
        "id": "YRNCGdF66iGj"
      },
      "execution_count": 466,
      "outputs": []
    },
    {
      "cell_type": "code",
      "source": [
        "# creating dataframe to map the tf-icf values of each word to the words based on their occurance in each sentence\n",
        "empty_dataframe = []\n",
        "df1 = pd.DataFrame(empty_dataframe,columns = tf_icf_dict.keys(),index = data_train.index )\n"
      ],
      "metadata": {
        "id": "59rmShOoKPpX"
      },
      "execution_count": null,
      "outputs": []
    },
    {
      "cell_type": "code",
      "source": [
        "# mapping the tf-icf values to the words in the respected sentences\n",
        "def fill_data(df, df1, data_train):\n",
        "  ind = data_train.index\n",
        "  for i in range(len(ind)):\n",
        "    cat = data_train.iloc[i]['Category']\n",
        "    text = data_train.iloc[i]['Text']\n",
        " \n",
        "    for word in text:\n",
        "   \n",
        "      df1.iloc[i][word] = df.loc[cat][word]\n",
        "  \n",
        "  return df1"
      ],
      "metadata": {
        "id": "tN-cDS-QRzrX"
      },
      "execution_count": 468,
      "outputs": []
    },
    {
      "cell_type": "code",
      "source": [
        "df1 = fill_data(df, df1, data_train).copy()"
      ],
      "metadata": {
        "id": "diEaz5R77mzq"
      },
      "execution_count": 469,
      "outputs": []
    },
    {
      "cell_type": "code",
      "source": [
        "df1 = df1.fillna(0) # replacing nan values with 0"
      ],
      "metadata": {
        "id": "UiDuxfkPR3RK"
      },
      "execution_count": 470,
      "outputs": []
    },
    {
      "cell_type": "code",
      "source": [
        "# diving the data into features and label\n",
        "x = df1\n",
        "y = data_train['Category']\n"
      ],
      "metadata": {
        "id": "U62-OsdINzwW"
      },
      "execution_count": 471,
      "outputs": []
    },
    {
      "cell_type": "markdown",
      "source": [
        "**Dataset**"
      ],
      "metadata": {
        "id": "RSYZXXA9JkHD"
      }
    },
    {
      "cell_type": "code",
      "source": [
        "# function to split the dataset into train and test\n",
        "def training_testing_split(x,y,test_size):\n",
        "  train_size = int(len(x)*(1-test_size))\n",
        "  train_data_x = x[:train_size]\n",
        "  train_data_y = y[:train_size]\n",
        "  test_data_x = x[train_size:]\n",
        "  test_data_y = y[train_size:]\n",
        "\n",
        "  return train_data_x, test_data_x, train_data_y, test_data_y"
      ],
      "metadata": {
        "id": "jnHtVf0H5g6u"
      },
      "execution_count": 472,
      "outputs": []
    },
    {
      "cell_type": "code",
      "source": [
        "# splitting the datadset into the ratio of 70:30\n",
        "x_train, x_test, y_train, y_test = training_testing_split(x,y,test_size=0.3)"
      ],
      "metadata": {
        "id": "iijKJ5-zNaft"
      },
      "execution_count": 473,
      "outputs": []
    },
    {
      "cell_type": "code",
      "source": [
        "x_train"
      ],
      "metadata": {
        "colab": {
          "base_uri": "https://localhost:8080/",
          "height": 487
        },
        "id": "3Rfe40TB-S6l",
        "outputId": "d8a03c53-1de3-42a5-ce2e-db610d8c8f2f"
      },
      "execution_count": 474,
      "outputs": [
        {
          "output_type": "execute_result",
          "data": {
            "text/plain": [
              "      worldcom   ex  bos  launch  defence  lawyer  defend  former  chief  \\\n",
              "0     37.74438  0.0  0.0     0.0      0.0     0.0     0.0     0.0    0.0   \n",
              "1      0.00000  0.0  0.0     0.0      0.0     0.0     0.0     0.0    0.0   \n",
              "2      0.00000  0.0  0.0     0.0      0.0     0.0     0.0     0.0    0.0   \n",
              "3      0.00000  0.0  0.0     0.0      0.0     0.0     0.0     0.0    0.0   \n",
              "4      0.00000  0.0  0.0     0.0      0.0     0.0     0.0     0.0    0.0   \n",
              "...        ...  ...  ...     ...      ...     ...     ...     ...    ...   \n",
              "1038   0.00000  0.0  0.0     0.0      0.0     0.0     0.0     0.0    0.0   \n",
              "1039   0.00000  0.0  0.0     0.0      0.0     0.0     0.0     0.0    0.0   \n",
              "1040   0.00000  0.0  0.0     0.0      0.0     0.0     0.0     0.0    0.0   \n",
              "1041   0.00000  0.0  0.0     0.0      0.0     0.0     0.0     0.0    0.0   \n",
              "1042   0.00000  0.0  0.0     0.0      0.0     0.0     0.0     0.0    0.0   \n",
              "\n",
              "       bernie  ...  103  playboyz  maniac  granada  cheeky  cassette  grandma  \\\n",
              "0     5.59176  ...  0.0       0.0     0.0      0.0     0.0       0.0      0.0   \n",
              "1     0.00000  ...  0.0       0.0     0.0      0.0     0.0       0.0      0.0   \n",
              "2     0.00000  ...  0.0       0.0     0.0      0.0     0.0       0.0      0.0   \n",
              "3     0.00000  ...  0.0       0.0     0.0      0.0     0.0       0.0      0.0   \n",
              "4     0.00000  ...  0.0       0.0     0.0      0.0     0.0       0.0      0.0   \n",
              "...       ...  ...  ...       ...     ...      ...     ...       ...      ...   \n",
              "1038  0.00000  ...  0.0       0.0     0.0      0.0     0.0       0.0      0.0   \n",
              "1039  0.00000  ...  0.0       0.0     0.0      0.0     0.0       0.0      0.0   \n",
              "1040  0.00000  ...  0.0       0.0     0.0      0.0     0.0       0.0      0.0   \n",
              "1041  0.00000  ...  0.0       0.0     0.0      0.0     0.0       0.0      0.0   \n",
              "1042  0.00000  ...  0.0       0.0     0.0      0.0     0.0       0.0      0.0   \n",
              "\n",
              "      verbalicious  stereophonics  rapport  \n",
              "0              0.0            0.0      0.0  \n",
              "1              0.0            0.0      0.0  \n",
              "2              0.0            0.0      0.0  \n",
              "3              0.0            0.0      0.0  \n",
              "4              0.0            0.0      0.0  \n",
              "...            ...            ...      ...  \n",
              "1038           0.0            0.0      0.0  \n",
              "1039           0.0            0.0      0.0  \n",
              "1040           0.0            0.0      0.0  \n",
              "1041           0.0            0.0      0.0  \n",
              "1042           0.0            0.0      0.0  \n",
              "\n",
              "[1043 rows x 20435 columns]"
            ],
            "text/html": [
              "\n",
              "  <div id=\"df-20f33689-9d75-4c46-a027-051dbda6c6f7\">\n",
              "    <div class=\"colab-df-container\">\n",
              "      <div>\n",
              "<style scoped>\n",
              "    .dataframe tbody tr th:only-of-type {\n",
              "        vertical-align: middle;\n",
              "    }\n",
              "\n",
              "    .dataframe tbody tr th {\n",
              "        vertical-align: top;\n",
              "    }\n",
              "\n",
              "    .dataframe thead th {\n",
              "        text-align: right;\n",
              "    }\n",
              "</style>\n",
              "<table border=\"1\" class=\"dataframe\">\n",
              "  <thead>\n",
              "    <tr style=\"text-align: right;\">\n",
              "      <th></th>\n",
              "      <th>worldcom</th>\n",
              "      <th>ex</th>\n",
              "      <th>bos</th>\n",
              "      <th>launch</th>\n",
              "      <th>defence</th>\n",
              "      <th>lawyer</th>\n",
              "      <th>defend</th>\n",
              "      <th>former</th>\n",
              "      <th>chief</th>\n",
              "      <th>bernie</th>\n",
              "      <th>...</th>\n",
              "      <th>103</th>\n",
              "      <th>playboyz</th>\n",
              "      <th>maniac</th>\n",
              "      <th>granada</th>\n",
              "      <th>cheeky</th>\n",
              "      <th>cassette</th>\n",
              "      <th>grandma</th>\n",
              "      <th>verbalicious</th>\n",
              "      <th>stereophonics</th>\n",
              "      <th>rapport</th>\n",
              "    </tr>\n",
              "  </thead>\n",
              "  <tbody>\n",
              "    <tr>\n",
              "      <th>0</th>\n",
              "      <td>37.74438</td>\n",
              "      <td>0.0</td>\n",
              "      <td>0.0</td>\n",
              "      <td>0.0</td>\n",
              "      <td>0.0</td>\n",
              "      <td>0.0</td>\n",
              "      <td>0.0</td>\n",
              "      <td>0.0</td>\n",
              "      <td>0.0</td>\n",
              "      <td>5.59176</td>\n",
              "      <td>...</td>\n",
              "      <td>0.0</td>\n",
              "      <td>0.0</td>\n",
              "      <td>0.0</td>\n",
              "      <td>0.0</td>\n",
              "      <td>0.0</td>\n",
              "      <td>0.0</td>\n",
              "      <td>0.0</td>\n",
              "      <td>0.0</td>\n",
              "      <td>0.0</td>\n",
              "      <td>0.0</td>\n",
              "    </tr>\n",
              "    <tr>\n",
              "      <th>1</th>\n",
              "      <td>0.00000</td>\n",
              "      <td>0.0</td>\n",
              "      <td>0.0</td>\n",
              "      <td>0.0</td>\n",
              "      <td>0.0</td>\n",
              "      <td>0.0</td>\n",
              "      <td>0.0</td>\n",
              "      <td>0.0</td>\n",
              "      <td>0.0</td>\n",
              "      <td>0.00000</td>\n",
              "      <td>...</td>\n",
              "      <td>0.0</td>\n",
              "      <td>0.0</td>\n",
              "      <td>0.0</td>\n",
              "      <td>0.0</td>\n",
              "      <td>0.0</td>\n",
              "      <td>0.0</td>\n",
              "      <td>0.0</td>\n",
              "      <td>0.0</td>\n",
              "      <td>0.0</td>\n",
              "      <td>0.0</td>\n",
              "    </tr>\n",
              "    <tr>\n",
              "      <th>2</th>\n",
              "      <td>0.00000</td>\n",
              "      <td>0.0</td>\n",
              "      <td>0.0</td>\n",
              "      <td>0.0</td>\n",
              "      <td>0.0</td>\n",
              "      <td>0.0</td>\n",
              "      <td>0.0</td>\n",
              "      <td>0.0</td>\n",
              "      <td>0.0</td>\n",
              "      <td>0.00000</td>\n",
              "      <td>...</td>\n",
              "      <td>0.0</td>\n",
              "      <td>0.0</td>\n",
              "      <td>0.0</td>\n",
              "      <td>0.0</td>\n",
              "      <td>0.0</td>\n",
              "      <td>0.0</td>\n",
              "      <td>0.0</td>\n",
              "      <td>0.0</td>\n",
              "      <td>0.0</td>\n",
              "      <td>0.0</td>\n",
              "    </tr>\n",
              "    <tr>\n",
              "      <th>3</th>\n",
              "      <td>0.00000</td>\n",
              "      <td>0.0</td>\n",
              "      <td>0.0</td>\n",
              "      <td>0.0</td>\n",
              "      <td>0.0</td>\n",
              "      <td>0.0</td>\n",
              "      <td>0.0</td>\n",
              "      <td>0.0</td>\n",
              "      <td>0.0</td>\n",
              "      <td>0.00000</td>\n",
              "      <td>...</td>\n",
              "      <td>0.0</td>\n",
              "      <td>0.0</td>\n",
              "      <td>0.0</td>\n",
              "      <td>0.0</td>\n",
              "      <td>0.0</td>\n",
              "      <td>0.0</td>\n",
              "      <td>0.0</td>\n",
              "      <td>0.0</td>\n",
              "      <td>0.0</td>\n",
              "      <td>0.0</td>\n",
              "    </tr>\n",
              "    <tr>\n",
              "      <th>4</th>\n",
              "      <td>0.00000</td>\n",
              "      <td>0.0</td>\n",
              "      <td>0.0</td>\n",
              "      <td>0.0</td>\n",
              "      <td>0.0</td>\n",
              "      <td>0.0</td>\n",
              "      <td>0.0</td>\n",
              "      <td>0.0</td>\n",
              "      <td>0.0</td>\n",
              "      <td>0.00000</td>\n",
              "      <td>...</td>\n",
              "      <td>0.0</td>\n",
              "      <td>0.0</td>\n",
              "      <td>0.0</td>\n",
              "      <td>0.0</td>\n",
              "      <td>0.0</td>\n",
              "      <td>0.0</td>\n",
              "      <td>0.0</td>\n",
              "      <td>0.0</td>\n",
              "      <td>0.0</td>\n",
              "      <td>0.0</td>\n",
              "    </tr>\n",
              "    <tr>\n",
              "      <th>...</th>\n",
              "      <td>...</td>\n",
              "      <td>...</td>\n",
              "      <td>...</td>\n",
              "      <td>...</td>\n",
              "      <td>...</td>\n",
              "      <td>...</td>\n",
              "      <td>...</td>\n",
              "      <td>...</td>\n",
              "      <td>...</td>\n",
              "      <td>...</td>\n",
              "      <td>...</td>\n",
              "      <td>...</td>\n",
              "      <td>...</td>\n",
              "      <td>...</td>\n",
              "      <td>...</td>\n",
              "      <td>...</td>\n",
              "      <td>...</td>\n",
              "      <td>...</td>\n",
              "      <td>...</td>\n",
              "      <td>...</td>\n",
              "      <td>...</td>\n",
              "    </tr>\n",
              "    <tr>\n",
              "      <th>1038</th>\n",
              "      <td>0.00000</td>\n",
              "      <td>0.0</td>\n",
              "      <td>0.0</td>\n",
              "      <td>0.0</td>\n",
              "      <td>0.0</td>\n",
              "      <td>0.0</td>\n",
              "      <td>0.0</td>\n",
              "      <td>0.0</td>\n",
              "      <td>0.0</td>\n",
              "      <td>0.00000</td>\n",
              "      <td>...</td>\n",
              "      <td>0.0</td>\n",
              "      <td>0.0</td>\n",
              "      <td>0.0</td>\n",
              "      <td>0.0</td>\n",
              "      <td>0.0</td>\n",
              "      <td>0.0</td>\n",
              "      <td>0.0</td>\n",
              "      <td>0.0</td>\n",
              "      <td>0.0</td>\n",
              "      <td>0.0</td>\n",
              "    </tr>\n",
              "    <tr>\n",
              "      <th>1039</th>\n",
              "      <td>0.00000</td>\n",
              "      <td>0.0</td>\n",
              "      <td>0.0</td>\n",
              "      <td>0.0</td>\n",
              "      <td>0.0</td>\n",
              "      <td>0.0</td>\n",
              "      <td>0.0</td>\n",
              "      <td>0.0</td>\n",
              "      <td>0.0</td>\n",
              "      <td>0.00000</td>\n",
              "      <td>...</td>\n",
              "      <td>0.0</td>\n",
              "      <td>0.0</td>\n",
              "      <td>0.0</td>\n",
              "      <td>0.0</td>\n",
              "      <td>0.0</td>\n",
              "      <td>0.0</td>\n",
              "      <td>0.0</td>\n",
              "      <td>0.0</td>\n",
              "      <td>0.0</td>\n",
              "      <td>0.0</td>\n",
              "    </tr>\n",
              "    <tr>\n",
              "      <th>1040</th>\n",
              "      <td>0.00000</td>\n",
              "      <td>0.0</td>\n",
              "      <td>0.0</td>\n",
              "      <td>0.0</td>\n",
              "      <td>0.0</td>\n",
              "      <td>0.0</td>\n",
              "      <td>0.0</td>\n",
              "      <td>0.0</td>\n",
              "      <td>0.0</td>\n",
              "      <td>0.00000</td>\n",
              "      <td>...</td>\n",
              "      <td>0.0</td>\n",
              "      <td>0.0</td>\n",
              "      <td>0.0</td>\n",
              "      <td>0.0</td>\n",
              "      <td>0.0</td>\n",
              "      <td>0.0</td>\n",
              "      <td>0.0</td>\n",
              "      <td>0.0</td>\n",
              "      <td>0.0</td>\n",
              "      <td>0.0</td>\n",
              "    </tr>\n",
              "    <tr>\n",
              "      <th>1041</th>\n",
              "      <td>0.00000</td>\n",
              "      <td>0.0</td>\n",
              "      <td>0.0</td>\n",
              "      <td>0.0</td>\n",
              "      <td>0.0</td>\n",
              "      <td>0.0</td>\n",
              "      <td>0.0</td>\n",
              "      <td>0.0</td>\n",
              "      <td>0.0</td>\n",
              "      <td>0.00000</td>\n",
              "      <td>...</td>\n",
              "      <td>0.0</td>\n",
              "      <td>0.0</td>\n",
              "      <td>0.0</td>\n",
              "      <td>0.0</td>\n",
              "      <td>0.0</td>\n",
              "      <td>0.0</td>\n",
              "      <td>0.0</td>\n",
              "      <td>0.0</td>\n",
              "      <td>0.0</td>\n",
              "      <td>0.0</td>\n",
              "    </tr>\n",
              "    <tr>\n",
              "      <th>1042</th>\n",
              "      <td>0.00000</td>\n",
              "      <td>0.0</td>\n",
              "      <td>0.0</td>\n",
              "      <td>0.0</td>\n",
              "      <td>0.0</td>\n",
              "      <td>0.0</td>\n",
              "      <td>0.0</td>\n",
              "      <td>0.0</td>\n",
              "      <td>0.0</td>\n",
              "      <td>0.00000</td>\n",
              "      <td>...</td>\n",
              "      <td>0.0</td>\n",
              "      <td>0.0</td>\n",
              "      <td>0.0</td>\n",
              "      <td>0.0</td>\n",
              "      <td>0.0</td>\n",
              "      <td>0.0</td>\n",
              "      <td>0.0</td>\n",
              "      <td>0.0</td>\n",
              "      <td>0.0</td>\n",
              "      <td>0.0</td>\n",
              "    </tr>\n",
              "  </tbody>\n",
              "</table>\n",
              "<p>1043 rows × 20435 columns</p>\n",
              "</div>\n",
              "      <button class=\"colab-df-convert\" onclick=\"convertToInteractive('df-20f33689-9d75-4c46-a027-051dbda6c6f7')\"\n",
              "              title=\"Convert this dataframe to an interactive table.\"\n",
              "              style=\"display:none;\">\n",
              "        \n",
              "  <svg xmlns=\"http://www.w3.org/2000/svg\" height=\"24px\"viewBox=\"0 0 24 24\"\n",
              "       width=\"24px\">\n",
              "    <path d=\"M0 0h24v24H0V0z\" fill=\"none\"/>\n",
              "    <path d=\"M18.56 5.44l.94 2.06.94-2.06 2.06-.94-2.06-.94-.94-2.06-.94 2.06-2.06.94zm-11 1L8.5 8.5l.94-2.06 2.06-.94-2.06-.94L8.5 2.5l-.94 2.06-2.06.94zm10 10l.94 2.06.94-2.06 2.06-.94-2.06-.94-.94-2.06-.94 2.06-2.06.94z\"/><path d=\"M17.41 7.96l-1.37-1.37c-.4-.4-.92-.59-1.43-.59-.52 0-1.04.2-1.43.59L10.3 9.45l-7.72 7.72c-.78.78-.78 2.05 0 2.83L4 21.41c.39.39.9.59 1.41.59.51 0 1.02-.2 1.41-.59l7.78-7.78 2.81-2.81c.8-.78.8-2.07 0-2.86zM5.41 20L4 18.59l7.72-7.72 1.47 1.35L5.41 20z\"/>\n",
              "  </svg>\n",
              "      </button>\n",
              "      \n",
              "  <style>\n",
              "    .colab-df-container {\n",
              "      display:flex;\n",
              "      flex-wrap:wrap;\n",
              "      gap: 12px;\n",
              "    }\n",
              "\n",
              "    .colab-df-convert {\n",
              "      background-color: #E8F0FE;\n",
              "      border: none;\n",
              "      border-radius: 50%;\n",
              "      cursor: pointer;\n",
              "      display: none;\n",
              "      fill: #1967D2;\n",
              "      height: 32px;\n",
              "      padding: 0 0 0 0;\n",
              "      width: 32px;\n",
              "    }\n",
              "\n",
              "    .colab-df-convert:hover {\n",
              "      background-color: #E2EBFA;\n",
              "      box-shadow: 0px 1px 2px rgba(60, 64, 67, 0.3), 0px 1px 3px 1px rgba(60, 64, 67, 0.15);\n",
              "      fill: #174EA6;\n",
              "    }\n",
              "\n",
              "    [theme=dark] .colab-df-convert {\n",
              "      background-color: #3B4455;\n",
              "      fill: #D2E3FC;\n",
              "    }\n",
              "\n",
              "    [theme=dark] .colab-df-convert:hover {\n",
              "      background-color: #434B5C;\n",
              "      box-shadow: 0px 1px 3px 1px rgba(0, 0, 0, 0.15);\n",
              "      filter: drop-shadow(0px 1px 2px rgba(0, 0, 0, 0.3));\n",
              "      fill: #FFFFFF;\n",
              "    }\n",
              "  </style>\n",
              "\n",
              "      <script>\n",
              "        const buttonEl =\n",
              "          document.querySelector('#df-20f33689-9d75-4c46-a027-051dbda6c6f7 button.colab-df-convert');\n",
              "        buttonEl.style.display =\n",
              "          google.colab.kernel.accessAllowed ? 'block' : 'none';\n",
              "\n",
              "        async function convertToInteractive(key) {\n",
              "          const element = document.querySelector('#df-20f33689-9d75-4c46-a027-051dbda6c6f7');\n",
              "          const dataTable =\n",
              "            await google.colab.kernel.invokeFunction('convertToInteractive',\n",
              "                                                     [key], {});\n",
              "          if (!dataTable) return;\n",
              "\n",
              "          const docLinkHtml = 'Like what you see? Visit the ' +\n",
              "            '<a target=\"_blank\" href=https://colab.research.google.com/notebooks/data_table.ipynb>data table notebook</a>'\n",
              "            + ' to learn more about interactive tables.';\n",
              "          element.innerHTML = '';\n",
              "          dataTable['output_type'] = 'display_data';\n",
              "          await google.colab.output.renderOutput(dataTable, element);\n",
              "          const docLink = document.createElement('div');\n",
              "          docLink.innerHTML = docLinkHtml;\n",
              "          element.appendChild(docLink);\n",
              "        }\n",
              "      </script>\n",
              "    </div>\n",
              "  </div>\n",
              "  "
            ]
          },
          "metadata": {},
          "execution_count": 474
        }
      ]
    },
    {
      "cell_type": "markdown",
      "source": [
        "Training the Naive Bayes"
      ],
      "metadata": {
        "id": "YcbvpXFAJ6U5"
      }
    },
    {
      "cell_type": "code",
      "source": [
        "from sklearn.naive_bayes import MultinomialNB"
      ],
      "metadata": {
        "id": "V-lTomzAxE08"
      },
      "execution_count": 475,
      "outputs": []
    },
    {
      "cell_type": "code",
      "source": [
        "# wrapper function to implement Naive Bayes with data having tf-icf weighting scheme\n",
        "def naive_bayes(x_train,y_train,x_test):\n",
        "  mb = MultinomialNB()\n",
        "  mb.fit(x_train, y_train)\n",
        "  \n",
        "# making predictions on the testing set\n",
        "  y_pred = mb.predict(x_test)\n",
        "  return y_pred"
      ],
      "metadata": {
        "id": "U4iA49ZGM0SJ"
      },
      "execution_count": 476,
      "outputs": []
    },
    {
      "cell_type": "code",
      "source": [
        "# calculating the probability of each category\n",
        "def calc_freq_cat(y_train):\n",
        "  freq_cat = dict()\n",
        "  prob = dict()\n",
        "  num_docs  = len(y_train)\n",
        "\n",
        "  for cat in y_train:\n",
        "    if cat not in freq_cat:\n",
        "      freq_cat[cat]=0\n",
        "    freq_cat[cat]+=1\n",
        "\n",
        "# print(freq_cat)\n",
        "\n",
        "  for cat, freq in freq_cat.items():\n",
        "    prob[cat] = freq/num_docs\n",
        "\n",
        "  print(prob)\n",
        "\n"
      ],
      "metadata": {
        "id": "FkDEqConS9oF"
      },
      "execution_count": 477,
      "outputs": []
    },
    {
      "cell_type": "code",
      "source": [
        "# calling the function to sgow the category wise probability\n",
        "calc_freq_cat(y_train)"
      ],
      "metadata": {
        "colab": {
          "base_uri": "https://localhost:8080/"
        },
        "id": "lWNvA6gyPq8H",
        "outputId": "f6e77d63-c603-4f4b-ff00-77d9bc3e3f43"
      },
      "execution_count": 504,
      "outputs": [
        {
          "output_type": "stream",
          "name": "stdout",
          "text": [
            "{'business': 0.22722914669223393, 'tech': 0.17833173537871524, 'politics': 0.18024928092042186, 'sport': 0.23873441994247363, 'entertainment': 0.17545541706615533}\n"
          ]
        }
      ]
    },
    {
      "cell_type": "markdown",
      "source": [
        "**Testing the Naive Bayes**"
      ],
      "metadata": {
        "id": "gUrgn89GKjMf"
      }
    },
    {
      "cell_type": "code",
      "source": [
        "lst_y_test = list(y_test)\n",
        "# using testing set to evaluate the classifier\n",
        "y_pred = naive_bayes(x_train,y_train,x_test)"
      ],
      "metadata": {
        "id": "3dbTWuUJGr7d"
      },
      "execution_count": 478,
      "outputs": []
    },
    {
      "cell_type": "code",
      "source": [
        "y_test_df = list(y_test)"
      ],
      "metadata": {
        "id": "M5c2CYj1M3Eu"
      },
      "execution_count": 482,
      "outputs": []
    },
    {
      "cell_type": "code",
      "source": [
        "#comparing testing and predicted labels\n",
        "comp_test_pred = pd.DataFrame(y_test_df,columns=[\"Actual Label\"])\n",
        "comp_test_pred.insert(1,\"Predicted Label\",y_pred,True)\n",
        "print(comp_test_pred)\n"
      ],
      "metadata": {
        "colab": {
          "base_uri": "https://localhost:8080/"
        },
        "id": "H6NAdlpHK_-S",
        "outputId": "a5f4456c-3b4e-489f-a4cb-16cb31e158f4"
      },
      "execution_count": 484,
      "outputs": [
        {
          "output_type": "stream",
          "name": "stdout",
          "text": [
            "      Actual Label Predicted Label\n",
            "0             tech            tech\n",
            "1         politics        politics\n",
            "2            sport           sport\n",
            "3         politics        politics\n",
            "4             tech            tech\n",
            "..             ...             ...\n",
            "442  entertainment   entertainment\n",
            "443  entertainment   entertainment\n",
            "444       business        business\n",
            "445           tech            tech\n",
            "446           tech            tech\n",
            "\n",
            "[447 rows x 2 columns]\n"
          ]
        }
      ]
    },
    {
      "cell_type": "code",
      "source": [
        "# function to calculate accuracy\n",
        "def calc_acc(y_test, y_pred):\n",
        "  acc = [1 if y_test[i]==y_pred[i] else 0 for i in range(len(y_test))]\n",
        "\n",
        "  return np.sum(acc)/len(y_test)"
      ],
      "metadata": {
        "id": "k966SCN-E7mN"
      },
      "execution_count": 485,
      "outputs": []
    },
    {
      "cell_type": "code",
      "source": [
        "# y_pred = naive_bayes(x_train,y_train,x_test)"
      ],
      "metadata": {
        "id": "tBhpWFC6payv"
      },
      "execution_count": 487,
      "outputs": []
    },
    {
      "cell_type": "code",
      "source": [
        "# calculation confusion matrix for using it in the calculation of precision, recall\n",
        "from sklearn.metrics import confusion_matrix\n",
        "conf_mat = confusion_matrix(lst_y_test,y_pred)\n"
      ],
      "metadata": {
        "id": "1gxEQP3CfPBg"
      },
      "execution_count": 488,
      "outputs": []
    },
    {
      "cell_type": "code",
      "source": [
        "# function to calculate tp, tn, fp, fn\n",
        "def calc_tp_tf_fp_fn(conf_mat):\n",
        "  tp = np.diag(conf_mat)\n",
        "  fp = np.sum(conf_mat,axis = 0) - tp\n",
        "  fn = np.sum(conf_mat,axis = 1) - tp\n",
        "  tn = np.sum(conf_mat) - tp - fp - fn\n",
        "\n",
        "  return tp, fp, fn, tn"
      ],
      "metadata": {
        "id": "-HOpO96Hjpu5"
      },
      "execution_count": 489,
      "outputs": []
    },
    {
      "cell_type": "code",
      "source": [
        "# function to calculate precision\n",
        "def calc_prec(tp, fp, fn, tn):\n",
        "  prec = np.sum(tp)/np.sum(tp+fp)\n",
        "  return prec"
      ],
      "metadata": {
        "id": "ywTq138FlNHK"
      },
      "execution_count": 490,
      "outputs": []
    },
    {
      "cell_type": "code",
      "source": [
        "# function to calculate recall\n",
        "def calc_rec(tp, fp, fn, tn):\n",
        "  rec = np.sum(tp)/np.sum(tp+fn)\n",
        "  return rec"
      ],
      "metadata": {
        "id": "EYS5zTsNllDQ"
      },
      "execution_count": 491,
      "outputs": []
    },
    {
      "cell_type": "code",
      "source": [
        "# printing the evaluation metrics with lemmatization and 70:30 split ratio\n",
        "tp, fp, fn, tn = calc_tp_tf_fp_fn(conf_mat)\n",
        "accuracy = calc_acc(lst_y_test,y_pred)\n",
        "prec = calc_prec(tp, fp, fn, tn)\n",
        "rec = calc_rec(tp, fp, fn, tn)\n",
        "f1_score = 2*prec*rec/(prec+rec) # calculating f1 score\n",
        "\n",
        "\n",
        "print(\"Accuracy: \",accuracy)\n",
        "print(\"Precision: \",prec)\n",
        "print(\"Recall: \",rec)\n",
        "print(\"F1 Score: \", f1_score)\n"
      ],
      "metadata": {
        "colab": {
          "base_uri": "https://localhost:8080/"
        },
        "id": "IzfqwUMFkq0L",
        "outputId": "b3051bc4-82e4-4631-9fb9-ab75d94dddfc"
      },
      "execution_count": 492,
      "outputs": [
        {
          "output_type": "stream",
          "name": "stdout",
          "text": [
            "Accuracy:  0.9977628635346756\n",
            "Precision:  0.9977628635346756\n",
            "Recall:  0.9977628635346756\n",
            "F1 Score:  0.9977628635346756\n"
          ]
        }
      ]
    },
    {
      "cell_type": "markdown",
      "source": [
        "**Improving the classifier**"
      ],
      "metadata": {
        "id": "M4qJM0fKOULl"
      }
    },
    {
      "cell_type": "code",
      "source": [
        "# data input for improving the classifier\n",
        "data_train = data_train_temp.copy()\n",
        "\n",
        "# lowering the case of the dataset\n",
        "data_train['Category'] = data_train['Category'].str.lower()\n",
        "data_train['Text'] = data_train['Text'].str.lower()\n",
        "data_train.head()\n"
      ],
      "metadata": {
        "colab": {
          "base_uri": "https://localhost:8080/",
          "height": 206
        },
        "id": "uXchxZs1jk1X",
        "outputId": "610834a3-9d43-4823-c882-1ceb7b6e4356"
      },
      "execution_count": 499,
      "outputs": [
        {
          "output_type": "execute_result",
          "data": {
            "text/plain": [
              "                                                Text  Category\n",
              "0  worldcom ex-boss launches defence lawyers defe...  business\n",
              "1  german business confidence slides german busin...  business\n",
              "2  bbc poll indicates economic gloom citizens in ...  business\n",
              "3  lifestyle  governs mobile choice  faster  bett...      tech\n",
              "4  enron bosses in $168m payout eighteen former e...  business"
            ],
            "text/html": [
              "\n",
              "  <div id=\"df-d3f1284d-4fc9-4a19-bcc1-5462bcd1f5e7\">\n",
              "    <div class=\"colab-df-container\">\n",
              "      <div>\n",
              "<style scoped>\n",
              "    .dataframe tbody tr th:only-of-type {\n",
              "        vertical-align: middle;\n",
              "    }\n",
              "\n",
              "    .dataframe tbody tr th {\n",
              "        vertical-align: top;\n",
              "    }\n",
              "\n",
              "    .dataframe thead th {\n",
              "        text-align: right;\n",
              "    }\n",
              "</style>\n",
              "<table border=\"1\" class=\"dataframe\">\n",
              "  <thead>\n",
              "    <tr style=\"text-align: right;\">\n",
              "      <th></th>\n",
              "      <th>Text</th>\n",
              "      <th>Category</th>\n",
              "    </tr>\n",
              "  </thead>\n",
              "  <tbody>\n",
              "    <tr>\n",
              "      <th>0</th>\n",
              "      <td>worldcom ex-boss launches defence lawyers defe...</td>\n",
              "      <td>business</td>\n",
              "    </tr>\n",
              "    <tr>\n",
              "      <th>1</th>\n",
              "      <td>german business confidence slides german busin...</td>\n",
              "      <td>business</td>\n",
              "    </tr>\n",
              "    <tr>\n",
              "      <th>2</th>\n",
              "      <td>bbc poll indicates economic gloom citizens in ...</td>\n",
              "      <td>business</td>\n",
              "    </tr>\n",
              "    <tr>\n",
              "      <th>3</th>\n",
              "      <td>lifestyle  governs mobile choice  faster  bett...</td>\n",
              "      <td>tech</td>\n",
              "    </tr>\n",
              "    <tr>\n",
              "      <th>4</th>\n",
              "      <td>enron bosses in $168m payout eighteen former e...</td>\n",
              "      <td>business</td>\n",
              "    </tr>\n",
              "  </tbody>\n",
              "</table>\n",
              "</div>\n",
              "      <button class=\"colab-df-convert\" onclick=\"convertToInteractive('df-d3f1284d-4fc9-4a19-bcc1-5462bcd1f5e7')\"\n",
              "              title=\"Convert this dataframe to an interactive table.\"\n",
              "              style=\"display:none;\">\n",
              "        \n",
              "  <svg xmlns=\"http://www.w3.org/2000/svg\" height=\"24px\"viewBox=\"0 0 24 24\"\n",
              "       width=\"24px\">\n",
              "    <path d=\"M0 0h24v24H0V0z\" fill=\"none\"/>\n",
              "    <path d=\"M18.56 5.44l.94 2.06.94-2.06 2.06-.94-2.06-.94-.94-2.06-.94 2.06-2.06.94zm-11 1L8.5 8.5l.94-2.06 2.06-.94-2.06-.94L8.5 2.5l-.94 2.06-2.06.94zm10 10l.94 2.06.94-2.06 2.06-.94-2.06-.94-.94-2.06-.94 2.06-2.06.94z\"/><path d=\"M17.41 7.96l-1.37-1.37c-.4-.4-.92-.59-1.43-.59-.52 0-1.04.2-1.43.59L10.3 9.45l-7.72 7.72c-.78.78-.78 2.05 0 2.83L4 21.41c.39.39.9.59 1.41.59.51 0 1.02-.2 1.41-.59l7.78-7.78 2.81-2.81c.8-.78.8-2.07 0-2.86zM5.41 20L4 18.59l7.72-7.72 1.47 1.35L5.41 20z\"/>\n",
              "  </svg>\n",
              "      </button>\n",
              "      \n",
              "  <style>\n",
              "    .colab-df-container {\n",
              "      display:flex;\n",
              "      flex-wrap:wrap;\n",
              "      gap: 12px;\n",
              "    }\n",
              "\n",
              "    .colab-df-convert {\n",
              "      background-color: #E8F0FE;\n",
              "      border: none;\n",
              "      border-radius: 50%;\n",
              "      cursor: pointer;\n",
              "      display: none;\n",
              "      fill: #1967D2;\n",
              "      height: 32px;\n",
              "      padding: 0 0 0 0;\n",
              "      width: 32px;\n",
              "    }\n",
              "\n",
              "    .colab-df-convert:hover {\n",
              "      background-color: #E2EBFA;\n",
              "      box-shadow: 0px 1px 2px rgba(60, 64, 67, 0.3), 0px 1px 3px 1px rgba(60, 64, 67, 0.15);\n",
              "      fill: #174EA6;\n",
              "    }\n",
              "\n",
              "    [theme=dark] .colab-df-convert {\n",
              "      background-color: #3B4455;\n",
              "      fill: #D2E3FC;\n",
              "    }\n",
              "\n",
              "    [theme=dark] .colab-df-convert:hover {\n",
              "      background-color: #434B5C;\n",
              "      box-shadow: 0px 1px 3px 1px rgba(0, 0, 0, 0.15);\n",
              "      filter: drop-shadow(0px 1px 2px rgba(0, 0, 0, 0.3));\n",
              "      fill: #FFFFFF;\n",
              "    }\n",
              "  </style>\n",
              "\n",
              "      <script>\n",
              "        const buttonEl =\n",
              "          document.querySelector('#df-d3f1284d-4fc9-4a19-bcc1-5462bcd1f5e7 button.colab-df-convert');\n",
              "        buttonEl.style.display =\n",
              "          google.colab.kernel.accessAllowed ? 'block' : 'none';\n",
              "\n",
              "        async function convertToInteractive(key) {\n",
              "          const element = document.querySelector('#df-d3f1284d-4fc9-4a19-bcc1-5462bcd1f5e7');\n",
              "          const dataTable =\n",
              "            await google.colab.kernel.invokeFunction('convertToInteractive',\n",
              "                                                     [key], {});\n",
              "          if (!dataTable) return;\n",
              "\n",
              "          const docLinkHtml = 'Like what you see? Visit the ' +\n",
              "            '<a target=\"_blank\" href=https://colab.research.google.com/notebooks/data_table.ipynb>data table notebook</a>'\n",
              "            + ' to learn more about interactive tables.';\n",
              "          element.innerHTML = '';\n",
              "          dataTable['output_type'] = 'display_data';\n",
              "          await google.colab.output.renderOutput(dataTable, element);\n",
              "          const docLink = document.createElement('div');\n",
              "          docLink.innerHTML = docLinkHtml;\n",
              "          element.appendChild(docLink);\n",
              "        }\n",
              "      </script>\n",
              "    </div>\n",
              "  </div>\n",
              "  "
            ]
          },
          "metadata": {},
          "execution_count": 499
        }
      ]
    },
    {
      "cell_type": "code",
      "source": [
        "\n",
        "categories = data_train['Category'].unique()\n",
        "\n",
        "term_freq = {}\n",
        "class_freq = {}\n",
        "num_class = len(categories)\n",
        "\n",
        "  "
      ],
      "metadata": {
        "id": "-SRwe6JGbwaf"
      },
      "execution_count": 500,
      "outputs": []
    },
    {
      "cell_type": "code",
      "source": [
        "# applying other preprocessing along with stemming in place of lemmatization\n",
        "data_train['Text'] = data_train['Text'].apply(removePunctuation)\n",
        "\n",
        "data_train['Text'] = data_train['Text'].apply(removeWords)\n",
        "\n",
        "\n",
        "data_train['Text'] = data_train['Text'].apply(stemming)\n",
        "\n",
        "\n",
        "cat_business, cat_tech, cat_politics, cat_sport, cat_entertain = get_cat(categories,data_train)\n",
        "\n",
        "term_freq = calc_term_freq(term_freq,cat_business,cat_tech,cat_politics,cat_sport,cat_entertain)\n",
        "\n",
        "class_freq = calc_class_freq(term_freq,class_freq,cat_business,cat_tech,cat_politics,cat_sport,cat_entertain)\n"
      ],
      "metadata": {
        "id": "zocFrGnJC79z"
      },
      "execution_count": 501,
      "outputs": []
    },
    {
      "cell_type": "code",
      "source": [
        "#calculating tf-icf and repeating the above steps\n",
        "tf_icf_dict = tf_icf(term_freq,class_freq)\n",
        "\n",
        "df = pd.DataFrame(tf_icf_dict)\n",
        "\n",
        "\n",
        "empty_dataframe = []\n",
        "df1 = pd.DataFrame(empty_dataframe,columns = tf_icf_dict.keys(),index = data_train.index )\n",
        "\n",
        "df1 = fill_data(df, df1, data_train).copy()\n",
        "df1 = df1.fillna(0)\n",
        "\n",
        "\n"
      ],
      "metadata": {
        "id": "neZgBx6C2kCs"
      },
      "execution_count": 502,
      "outputs": []
    },
    {
      "cell_type": "code",
      "source": [
        "# spliting the data into features and label\n",
        "x = df1\n",
        "y = data_train['Category']\n"
      ],
      "metadata": {
        "id": "7KkO9O8EzT6-"
      },
      "execution_count": 505,
      "outputs": []
    },
    {
      "cell_type": "code",
      "source": [
        "# splitting the data into 70:30 splits with stemming to compare with previous result with lemmatization\n",
        "x_train, x_test, y_train, y_test = training_testing_split(x,y,test_size=0.3)\n",
        "\n",
        "lst_y_test = list(y_test)\n",
        "\n",
        "y_pred = naive_bayes(x_train, y_train,x_test)\n",
        "\n",
        "\n",
        "\n",
        "\n",
        "conf_mat = confusion_matrix(lst_y_test,y_pred)\n",
        "\n",
        "\n",
        "tp, fp, fn, tn = calc_tp_tf_fp_fn(conf_mat)\n",
        "\n",
        "accuracy = calc_acc(lst_y_test,y_pred)\n",
        "\n",
        "prec = calc_prec(tp, fp, fn, tn)\n",
        "rec = calc_rec(tp, fp, fn, tn)\n",
        "f1_score = 2*prec*rec/(prec+rec)\n",
        "print(\"Accuracy: \",accuracy)\n",
        "print(\"Precision: \",prec)\n",
        "print(\"Recall: \",rec)\n",
        "print(\"F1 Score: \", f1_score)"
      ],
      "metadata": {
        "colab": {
          "base_uri": "https://localhost:8080/"
        },
        "id": "yZAJzjAZ55q3",
        "outputId": "f6618c0a-d3aa-4342-e3a8-5e78c8e00210"
      },
      "execution_count": 507,
      "outputs": [
        {
          "output_type": "stream",
          "name": "stdout",
          "text": [
            "Accuracy:  0.9977628635346756\n",
            "Precision:  0.9977628635346756\n",
            "Recall:  0.9977628635346756\n",
            "F1 Score:  0.9977628635346756\n"
          ]
        }
      ]
    },
    {
      "cell_type": "code",
      "source": [
        "# splitting the data with 60:40 ratio\n",
        "x_train, x_test, y_train, y_test = training_testing_split(x,y,test_size=0.4)\n",
        "\n",
        "lst_y_test = list(y_test)\n",
        "\n",
        "y_pred = naive_bayes(x_train, y_train,x_test)\n",
        "\n",
        "\n",
        "\n",
        "\n",
        "conf_mat = confusion_matrix(lst_y_test,y_pred)\n",
        "\n",
        "\n",
        "tp, fp, fn, tn = calc_tp_tf_fp_fn(conf_mat)\n",
        "\n",
        "accuracy = calc_acc(lst_y_test,y_pred)\n",
        "prec = calc_prec(tp, fp, fn, tn)\n",
        "rec = calc_rec(tp, fp, fn, tn)\n",
        "f1_score = 2*prec*rec/(prec+rec)\n",
        "\n",
        "print(\"Accuracy: \",accuracy)\n",
        "print(\"Precision: \",prec)\n",
        "print(\"Recall: \",rec)\n",
        "print(\"F1 Score: \", f1_score)"
      ],
      "metadata": {
        "colab": {
          "base_uri": "https://localhost:8080/"
        },
        "id": "KAO-7olBFa3x",
        "outputId": "c3477f2e-cc08-4008-8321-af3f14d2a9f7"
      },
      "execution_count": 508,
      "outputs": [
        {
          "output_type": "stream",
          "name": "stdout",
          "text": [
            "Accuracy:  0.9983221476510067\n",
            "Precision:  0.9983221476510067\n",
            "Recall:  0.9983221476510067\n",
            "F1 Score:  0.9983221476510067\n"
          ]
        }
      ]
    },
    {
      "cell_type": "code",
      "source": [
        "# splitting the data with 50:50 ratio\n",
        "x_train, x_test, y_train, y_test = training_testing_split(x,y,test_size=0.5)\n",
        "\n",
        "lst_y_test = list(y_test)\n",
        "\n",
        "y_pred = naive_bayes(x_train, y_train,x_test)\n",
        "\n",
        "accuracy = calc_acc(lst_y_test,y_pred)\n",
        "print(\"Accuracy: \",accuracy)\n",
        "\n",
        "\n",
        "conf_mat = confusion_matrix(lst_y_test,y_pred)\n",
        "  #print(conf_mat)\n",
        "\n",
        "tp, fp, fn, tn = calc_tp_tf_fp_fn(conf_mat)\n",
        "prec = calc_prec(tp, fp, fn, tn)\n",
        "rec = calc_rec(tp, fp, fn, tn)\n",
        "f1_score = 2*prec*rec/(prec+rec)\n",
        "print(\"Precision: \",prec)\n",
        "print(\"Recall: \",rec)\n",
        "print(\"F1 Score: \", f1_score)"
      ],
      "metadata": {
        "colab": {
          "base_uri": "https://localhost:8080/"
        },
        "id": "Jj3lrU2czQEl",
        "outputId": "b5f6571e-6d86-499b-94d3-e617e136d7ed"
      },
      "execution_count": 509,
      "outputs": [
        {
          "output_type": "stream",
          "name": "stdout",
          "text": [
            "Accuracy:  0.9986577181208054\n",
            "Precision:  0.9986577181208054\n",
            "Recall:  0.9986577181208054\n",
            "F1 Score:  0.9986577181208054\n"
          ]
        }
      ]
    },
    {
      "cell_type": "code",
      "source": [
        "from sklearn.feature_extraction.text import TfidfVectorizer"
      ],
      "metadata": {
        "id": "DAEVR0LWbtPo"
      },
      "execution_count": 436,
      "outputs": []
    },
    {
      "cell_type": "code",
      "source": [
        "#applying tf-idf to the data for comparison with tf- with 70:30 split ratio\n",
        "x = data_train['Text']\n",
        "y = data_train['Category']\n",
        "x_train, x_test, y_train, y_test = training_testing_split(x,y,test_size=0.3)\n",
        "\n",
        "# lst_y_test = list(y_test)"
      ],
      "metadata": {
        "id": "2SkWdihntxvK"
      },
      "execution_count": 510,
      "outputs": []
    },
    {
      "cell_type": "code",
      "source": [
        "vect = TfidfVectorizer()\n",
        "# converting the list to string\n",
        "x_train_vect = [' '.join(data) for data in x_train]\n",
        "x_test_vect = [' '.join(data) for data in x_test]\n"
      ],
      "metadata": {
        "id": "eQN0tdQJpjgd"
      },
      "execution_count": 511,
      "outputs": []
    },
    {
      "cell_type": "code",
      "source": [
        "x_train_vect = vect.fit_transform(x_train_vect)\n",
        "x_test_vect = vect.transform(x_test_vect)"
      ],
      "metadata": {
        "id": "1A5-J0Cs1DMB"
      },
      "execution_count": 512,
      "outputs": []
    },
    {
      "cell_type": "code",
      "source": [
        "#applying naive bayes\n",
        "mb = MultinomialNB()\n",
        "mb.fit(x_train_vect, y_train)\n",
        "y_test = list(y_test)\n",
        "y_pred = mb.predict(x_test_vect)"
      ],
      "metadata": {
        "id": "4FygqMdk1JOL"
      },
      "execution_count": 513,
      "outputs": []
    },
    {
      "cell_type": "code",
      "source": [
        "\n"
      ],
      "metadata": {
        "id": "mQ3eAtSM1-kl"
      },
      "execution_count": 440,
      "outputs": []
    },
    {
      "cell_type": "code",
      "source": [
        "# evaluation metrices\n",
        "accuracy = calc_acc(y_test,y_pred)\n",
        "print(\"Accuracy: \",accuracy)\n",
        "\n",
        "\n",
        "conf_mat = confusion_matrix(y_test,y_pred)\n",
        "\n",
        "\n",
        "tp, fp, fn, tn = calc_tp_tf_fp_fn(conf_mat)\n",
        "prec = calc_prec(tp, fp, fn, tn)\n",
        "rec = calc_rec(tp, fp, fn, tn)\n",
        "f1_score = 2*prec*rec/(prec+rec)\n",
        "print(\"Precision: \",prec)\n",
        "print(\"Recall: \",rec)\n",
        "print(\"F1 Score: \", f1_score)"
      ],
      "metadata": {
        "colab": {
          "base_uri": "https://localhost:8080/"
        },
        "id": "0uJ08DRrr80X",
        "outputId": "87fcb1d6-b364-457a-a1cb-4c3eec1d59b1"
      },
      "execution_count": 514,
      "outputs": [
        {
          "output_type": "stream",
          "name": "stdout",
          "text": [
            "Accuracy:  0.970917225950783\n",
            "Precision:  0.970917225950783\n",
            "Recall:  0.970917225950783\n",
            "F1 Score:  0.9709172259507831\n"
          ]
        }
      ]
    }
  ]
}